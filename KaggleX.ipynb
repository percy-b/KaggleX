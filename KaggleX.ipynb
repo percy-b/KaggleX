{
 "cells": [
  {
   "cell_type": "code",
   "execution_count": 1,
   "id": "6c6cb4bf",
   "metadata": {},
   "outputs": [],
   "source": [
    "import pandas as pd\n",
    "import numpy as np\n",
    "import matplotlib.pyplot as plt\n",
    "\n",
    "import lightgbm as lgb\n",
    "\n",
    "from sklearn.model_selection import train_test_split\n",
    "from sklearn.metrics import mean_squared_error\n",
    "from sklearn.preprocessing import LabelEncoder\n",
    "\n",
    "import numpy as np\n",
    "\n",
    "from matplotlib import pyplot\n",
    "import seaborn as sns"
   ]
  },
  {
   "cell_type": "code",
   "execution_count": 2,
   "id": "9a5d12ef",
   "metadata": {},
   "outputs": [],
   "source": [
    "train = pd.read_csv('train_new.csv', index_col=[0])\n"
   ]
  },
  {
   "cell_type": "code",
   "execution_count": 3,
   "id": "5775265a",
   "metadata": {},
   "outputs": [],
   "source": [
    "test = pd.read_csv('test.csv')"
   ]
  },
  {
   "cell_type": "code",
   "execution_count": 4,
   "id": "4312cb98",
   "metadata": {},
   "outputs": [
    {
     "data": {
      "text/html": [
       "<div>\n",
       "<style scoped>\n",
       "    .dataframe tbody tr th:only-of-type {\n",
       "        vertical-align: middle;\n",
       "    }\n",
       "\n",
       "    .dataframe tbody tr th {\n",
       "        vertical-align: top;\n",
       "    }\n",
       "\n",
       "    .dataframe thead th {\n",
       "        text-align: right;\n",
       "    }\n",
       "</style>\n",
       "<table border=\"1\" class=\"dataframe\">\n",
       "  <thead>\n",
       "    <tr style=\"text-align: right;\">\n",
       "      <th></th>\n",
       "      <th>brand</th>\n",
       "      <th>model</th>\n",
       "      <th>model_year</th>\n",
       "      <th>milage</th>\n",
       "      <th>fuel_type</th>\n",
       "      <th>engine</th>\n",
       "      <th>transmission</th>\n",
       "      <th>ext_col</th>\n",
       "      <th>int_col</th>\n",
       "      <th>accident</th>\n",
       "      <th>clean_title</th>\n",
       "      <th>price</th>\n",
       "    </tr>\n",
       "  </thead>\n",
       "  <tbody>\n",
       "    <tr>\n",
       "      <th>0</th>\n",
       "      <td>Ford</td>\n",
       "      <td>F-150 Lariat</td>\n",
       "      <td>2018</td>\n",
       "      <td>74349</td>\n",
       "      <td>Gasoline</td>\n",
       "      <td>375.0HP 3.5L V6 Cylinder Engine Gasoline Fuel</td>\n",
       "      <td>10-Speed A/T</td>\n",
       "      <td>Blue</td>\n",
       "      <td>Gray</td>\n",
       "      <td>None reported</td>\n",
       "      <td>Yes</td>\n",
       "      <td>11000</td>\n",
       "    </tr>\n",
       "    <tr>\n",
       "      <th>1</th>\n",
       "      <td>BMW</td>\n",
       "      <td>335 i</td>\n",
       "      <td>2007</td>\n",
       "      <td>80000</td>\n",
       "      <td>Gasoline</td>\n",
       "      <td>300.0HP 3.0L Straight 6 Cylinder Engine Gasoli...</td>\n",
       "      <td>6-Speed M/T</td>\n",
       "      <td>Black</td>\n",
       "      <td>Black</td>\n",
       "      <td>None reported</td>\n",
       "      <td>Yes</td>\n",
       "      <td>8250</td>\n",
       "    </tr>\n",
       "    <tr>\n",
       "      <th>2</th>\n",
       "      <td>Jaguar</td>\n",
       "      <td>XF Luxury</td>\n",
       "      <td>2009</td>\n",
       "      <td>91491</td>\n",
       "      <td>Gasoline</td>\n",
       "      <td>300.0HP 4.2L 8 Cylinder Engine Gasoline Fuel</td>\n",
       "      <td>6-Speed A/T</td>\n",
       "      <td>Purple</td>\n",
       "      <td>Beige</td>\n",
       "      <td>None reported</td>\n",
       "      <td>Yes</td>\n",
       "      <td>15000</td>\n",
       "    </tr>\n",
       "    <tr>\n",
       "      <th>3</th>\n",
       "      <td>BMW</td>\n",
       "      <td>X7 xDrive40i</td>\n",
       "      <td>2022</td>\n",
       "      <td>2437</td>\n",
       "      <td>Hybrid</td>\n",
       "      <td>335.0HP 3.0L Straight 6 Cylinder Engine Gasoli...</td>\n",
       "      <td>Transmission w/Dual Shift Mode</td>\n",
       "      <td>Gray</td>\n",
       "      <td>Brown</td>\n",
       "      <td>None reported</td>\n",
       "      <td>Yes</td>\n",
       "      <td>63500</td>\n",
       "    </tr>\n",
       "    <tr>\n",
       "      <th>4</th>\n",
       "      <td>Pontiac</td>\n",
       "      <td>Firebird Base</td>\n",
       "      <td>2001</td>\n",
       "      <td>111000</td>\n",
       "      <td>Gasoline</td>\n",
       "      <td>200.0HP 3.8L V6 Cylinder Engine Gasoline Fuel</td>\n",
       "      <td>A/T</td>\n",
       "      <td>White</td>\n",
       "      <td>Black</td>\n",
       "      <td>None reported</td>\n",
       "      <td>Yes</td>\n",
       "      <td>7850</td>\n",
       "    </tr>\n",
       "  </tbody>\n",
       "</table>\n",
       "</div>"
      ],
      "text/plain": [
       "     brand          model  model_year  milage fuel_type  \\\n",
       "0     Ford   F-150 Lariat        2018   74349  Gasoline   \n",
       "1      BMW          335 i        2007   80000  Gasoline   \n",
       "2   Jaguar      XF Luxury        2009   91491  Gasoline   \n",
       "3      BMW   X7 xDrive40i        2022    2437    Hybrid   \n",
       "4  Pontiac  Firebird Base        2001  111000  Gasoline   \n",
       "\n",
       "                                              engine  \\\n",
       "0      375.0HP 3.5L V6 Cylinder Engine Gasoline Fuel   \n",
       "1  300.0HP 3.0L Straight 6 Cylinder Engine Gasoli...   \n",
       "2       300.0HP 4.2L 8 Cylinder Engine Gasoline Fuel   \n",
       "3  335.0HP 3.0L Straight 6 Cylinder Engine Gasoli...   \n",
       "4      200.0HP 3.8L V6 Cylinder Engine Gasoline Fuel   \n",
       "\n",
       "                     transmission ext_col int_col       accident clean_title  \\\n",
       "0                    10-Speed A/T    Blue    Gray  None reported         Yes   \n",
       "1                     6-Speed M/T   Black   Black  None reported         Yes   \n",
       "2                     6-Speed A/T  Purple   Beige  None reported         Yes   \n",
       "3  Transmission w/Dual Shift Mode    Gray   Brown  None reported         Yes   \n",
       "4                             A/T   White   Black  None reported         Yes   \n",
       "\n",
       "   price  \n",
       "0  11000  \n",
       "1   8250  \n",
       "2  15000  \n",
       "3  63500  \n",
       "4   7850  "
      ]
     },
     "execution_count": 4,
     "metadata": {},
     "output_type": "execute_result"
    }
   ],
   "source": [
    "train.head()"
   ]
  },
  {
   "cell_type": "markdown",
   "id": "f85c55c3",
   "metadata": {},
   "source": [
    "## The dataset was a bit skewed, so i tried to eliminate some outliers, because when i investigate them, they had abnormal prices, I also elimiated some NA"
   ]
  },
  {
   "cell_type": "code",
   "execution_count": 5,
   "id": "7af76dec",
   "metadata": {},
   "outputs": [
    {
     "data": {
      "text/plain": [
       "<Axes: xlabel='milage', ylabel='Count'>"
      ]
     },
     "execution_count": 5,
     "metadata": {},
     "output_type": "execute_result"
    },
    {
     "data": {
      "image/png": "[encoded data removed]",
      "text/plain": [
       "<Figure size 640x480 with 1 Axes>"
      ]
     },
     "metadata": {},
     "output_type": "display_data"
    }
   ],
   "source": [
    "sns.histplot(train['milage'])"
   ]
  },
  {
   "cell_type": "code",
   "execution_count": 6,
   "id": "b7a3259c",
   "metadata": {},
   "outputs": [
    {
     "data": {
      "text/plain": [
       "brand             0\n",
       "model             0\n",
       "model_year        0\n",
       "milage            0\n",
       "fuel_type       170\n",
       "engine            0\n",
       "transmission      0\n",
       "ext_col           0\n",
       "int_col           0\n",
       "accident        113\n",
       "clean_title     596\n",
       "price             0\n",
       "dtype: int64"
      ]
     },
     "execution_count": 6,
     "metadata": {},
     "output_type": "execute_result"
    }
   ],
   "source": [
    "train.isna().sum()"
   ]
  },
  {
   "cell_type": "code",
   "execution_count": 7,
   "id": "80608cc9",
   "metadata": {},
   "outputs": [
    {
     "data": {
      "text/plain": [
       "58282"
      ]
     },
     "execution_count": 7,
     "metadata": {},
     "output_type": "execute_result"
    }
   ],
   "source": [
    "len(train)"
   ]
  },
  {
   "cell_type": "code",
   "execution_count": 8,
   "id": "dcd95a62",
   "metadata": {},
   "outputs": [],
   "source": [
    "# year, milage, price"
   ]
  },
  {
   "cell_type": "code",
   "execution_count": 9,
   "id": "8b2a55bb",
   "metadata": {},
   "outputs": [],
   "source": [
    "year_mean = train['model_year'].mean()\n",
    "year_std_dev = train['model_year'].std()\n",
    "lower_bound = year_mean - 3 * year_std_dev\n",
    "upper_bound = year_mean + 3 * year_std_dev\n",
    "#outliers = train[(train['model_year'] < lower_bound) | (train['model_year'] > upper_bound)]\n",
    "pruned_year = train[(train['model_year'] >= lower_bound) & (train['model_year'] <= upper_bound)]\n"
   ]
  },
  {
   "cell_type": "code",
   "execution_count": 10,
   "id": "da81db39",
   "metadata": {},
   "outputs": [
    {
     "data": {
      "text/plain": [
       "<Axes: xlabel='model_year', ylabel='Count'>"
      ]
     },
     "execution_count": 10,
     "metadata": {},
     "output_type": "execute_result"
    },
    {
     "data": {
      "image/png": "[encoded data removed]",
      "text/plain": [
       "<Figure size 640x480 with 1 Axes>"
      ]
     },
     "metadata": {},
     "output_type": "display_data"
    }
   ],
   "source": [
    "sns.histplot(train['model_year'])"
   ]
  },
  {
   "cell_type": "code",
   "execution_count": 11,
   "id": "f4547251",
   "metadata": {},
   "outputs": [
    {
     "data": {
      "text/plain": [
       "<Axes: xlabel='model_year', ylabel='Count'>"
      ]
     },
     "execution_count": 11,
     "metadata": {},
     "output_type": "execute_result"
    },
    {
     "data": {
      "image/png": "[encoded data removed]",
      "text/plain": [
       "<Figure size 640x480 with 1 Axes>"
      ]
     },
     "metadata": {},
     "output_type": "display_data"
    }
   ],
   "source": [
    "sns.histplot(pruned_year['model_year'])"
   ]
  },
  {
   "cell_type": "code",
   "execution_count": 12,
   "id": "450ac79b",
   "metadata": {},
   "outputs": [
    {
     "data": {
      "text/html": [
       "<div>\n",
       "<style scoped>\n",
       "    .dataframe tbody tr th:only-of-type {\n",
       "        vertical-align: middle;\n",
       "    }\n",
       "\n",
       "    .dataframe tbody tr th {\n",
       "        vertical-align: top;\n",
       "    }\n",
       "\n",
       "    .dataframe thead th {\n",
       "        text-align: right;\n",
       "    }\n",
       "</style>\n",
       "<table border=\"1\" class=\"dataframe\">\n",
       "  <thead>\n",
       "    <tr style=\"text-align: right;\">\n",
       "      <th></th>\n",
       "      <th>brand</th>\n",
       "      <th>model</th>\n",
       "      <th>model_year</th>\n",
       "      <th>milage</th>\n",
       "      <th>fuel_type</th>\n",
       "      <th>engine</th>\n",
       "      <th>transmission</th>\n",
       "      <th>ext_col</th>\n",
       "      <th>int_col</th>\n",
       "      <th>accident</th>\n",
       "      <th>clean_title</th>\n",
       "      <th>price</th>\n",
       "    </tr>\n",
       "  </thead>\n",
       "  <tbody>\n",
       "    <tr>\n",
       "      <th>0</th>\n",
       "      <td>Ford</td>\n",
       "      <td>F-150 Lariat</td>\n",
       "      <td>2018</td>\n",
       "      <td>74349</td>\n",
       "      <td>Gasoline</td>\n",
       "      <td>375.0HP 3.5L V6 Cylinder Engine Gasoline Fuel</td>\n",
       "      <td>10-Speed A/T</td>\n",
       "      <td>Blue</td>\n",
       "      <td>Gray</td>\n",
       "      <td>None reported</td>\n",
       "      <td>Yes</td>\n",
       "      <td>11000</td>\n",
       "    </tr>\n",
       "    <tr>\n",
       "      <th>1</th>\n",
       "      <td>BMW</td>\n",
       "      <td>335 i</td>\n",
       "      <td>2007</td>\n",
       "      <td>80000</td>\n",
       "      <td>Gasoline</td>\n",
       "      <td>300.0HP 3.0L Straight 6 Cylinder Engine Gasoli...</td>\n",
       "      <td>6-Speed M/T</td>\n",
       "      <td>Black</td>\n",
       "      <td>Black</td>\n",
       "      <td>None reported</td>\n",
       "      <td>Yes</td>\n",
       "      <td>8250</td>\n",
       "    </tr>\n",
       "    <tr>\n",
       "      <th>2</th>\n",
       "      <td>Jaguar</td>\n",
       "      <td>XF Luxury</td>\n",
       "      <td>2009</td>\n",
       "      <td>91491</td>\n",
       "      <td>Gasoline</td>\n",
       "      <td>300.0HP 4.2L 8 Cylinder Engine Gasoline Fuel</td>\n",
       "      <td>6-Speed A/T</td>\n",
       "      <td>Purple</td>\n",
       "      <td>Beige</td>\n",
       "      <td>None reported</td>\n",
       "      <td>Yes</td>\n",
       "      <td>15000</td>\n",
       "    </tr>\n",
       "    <tr>\n",
       "      <th>3</th>\n",
       "      <td>BMW</td>\n",
       "      <td>X7 xDrive40i</td>\n",
       "      <td>2022</td>\n",
       "      <td>2437</td>\n",
       "      <td>Hybrid</td>\n",
       "      <td>335.0HP 3.0L Straight 6 Cylinder Engine Gasoli...</td>\n",
       "      <td>Transmission w/Dual Shift Mode</td>\n",
       "      <td>Gray</td>\n",
       "      <td>Brown</td>\n",
       "      <td>None reported</td>\n",
       "      <td>Yes</td>\n",
       "      <td>63500</td>\n",
       "    </tr>\n",
       "    <tr>\n",
       "      <th>4</th>\n",
       "      <td>Pontiac</td>\n",
       "      <td>Firebird Base</td>\n",
       "      <td>2001</td>\n",
       "      <td>111000</td>\n",
       "      <td>Gasoline</td>\n",
       "      <td>200.0HP 3.8L V6 Cylinder Engine Gasoline Fuel</td>\n",
       "      <td>A/T</td>\n",
       "      <td>White</td>\n",
       "      <td>Black</td>\n",
       "      <td>None reported</td>\n",
       "      <td>Yes</td>\n",
       "      <td>7850</td>\n",
       "    </tr>\n",
       "    <tr>\n",
       "      <th>...</th>\n",
       "      <td>...</td>\n",
       "      <td>...</td>\n",
       "      <td>...</td>\n",
       "      <td>...</td>\n",
       "      <td>...</td>\n",
       "      <td>...</td>\n",
       "      <td>...</td>\n",
       "      <td>...</td>\n",
       "      <td>...</td>\n",
       "      <td>...</td>\n",
       "      <td>...</td>\n",
       "      <td>...</td>\n",
       "    </tr>\n",
       "    <tr>\n",
       "      <th>4004</th>\n",
       "      <td>Bentley</td>\n",
       "      <td>Continental GT Speed</td>\n",
       "      <td>2023</td>\n",
       "      <td>714</td>\n",
       "      <td>Gasoline</td>\n",
       "      <td>6.0L W12 48V PDI DOHC Twin Turbo</td>\n",
       "      <td>8-Speed Automatic with Auto-Shift</td>\n",
       "      <td>C / C</td>\n",
       "      <td>Hotspur</td>\n",
       "      <td>None reported</td>\n",
       "      <td>Yes</td>\n",
       "      <td>349950</td>\n",
       "    </tr>\n",
       "    <tr>\n",
       "      <th>4005</th>\n",
       "      <td>Audi</td>\n",
       "      <td>S4 3.0T Premium Plus</td>\n",
       "      <td>2022</td>\n",
       "      <td>10900</td>\n",
       "      <td>Gasoline</td>\n",
       "      <td>349.0HP 3.0L V6 Cylinder Engine Gasoline Fuel</td>\n",
       "      <td>Transmission w/Dual Shift Mode</td>\n",
       "      <td>Black</td>\n",
       "      <td>Black</td>\n",
       "      <td>None reported</td>\n",
       "      <td>Yes</td>\n",
       "      <td>53900</td>\n",
       "    </tr>\n",
       "    <tr>\n",
       "      <th>4006</th>\n",
       "      <td>Porsche</td>\n",
       "      <td>Taycan</td>\n",
       "      <td>2022</td>\n",
       "      <td>2116</td>\n",
       "      <td>NaN</td>\n",
       "      <td>Electric</td>\n",
       "      <td>Automatic</td>\n",
       "      <td>Black</td>\n",
       "      <td>Black</td>\n",
       "      <td>None reported</td>\n",
       "      <td>NaN</td>\n",
       "      <td>90998</td>\n",
       "    </tr>\n",
       "    <tr>\n",
       "      <th>4007</th>\n",
       "      <td>Ford</td>\n",
       "      <td>F-150 Raptor</td>\n",
       "      <td>2020</td>\n",
       "      <td>33000</td>\n",
       "      <td>Gasoline</td>\n",
       "      <td>450.0HP 3.5L V6 Cylinder Engine Gasoline Fuel</td>\n",
       "      <td>A/T</td>\n",
       "      <td>Blue</td>\n",
       "      <td>Black</td>\n",
       "      <td>None reported</td>\n",
       "      <td>Yes</td>\n",
       "      <td>62999</td>\n",
       "    </tr>\n",
       "    <tr>\n",
       "      <th>4008</th>\n",
       "      <td>BMW</td>\n",
       "      <td>X3 xDrive30i</td>\n",
       "      <td>2020</td>\n",
       "      <td>43000</td>\n",
       "      <td>Gasoline</td>\n",
       "      <td>248.0HP 2.0L 4 Cylinder Engine Gasoline Fuel</td>\n",
       "      <td>A/T</td>\n",
       "      <td>Gray</td>\n",
       "      <td>Brown</td>\n",
       "      <td>At least 1 accident or damage reported</td>\n",
       "      <td>Yes</td>\n",
       "      <td>40000</td>\n",
       "    </tr>\n",
       "  </tbody>\n",
       "</table>\n",
       "<p>57808 rows × 12 columns</p>\n",
       "</div>"
      ],
      "text/plain": [
       "        brand                 model  model_year  milage fuel_type  \\\n",
       "0        Ford          F-150 Lariat        2018   74349  Gasoline   \n",
       "1         BMW                 335 i        2007   80000  Gasoline   \n",
       "2      Jaguar             XF Luxury        2009   91491  Gasoline   \n",
       "3         BMW          X7 xDrive40i        2022    2437    Hybrid   \n",
       "4     Pontiac         Firebird Base        2001  111000  Gasoline   \n",
       "...       ...                   ...         ...     ...       ...   \n",
       "4004  Bentley  Continental GT Speed        2023     714  Gasoline   \n",
       "4005     Audi  S4 3.0T Premium Plus        2022   10900  Gasoline   \n",
       "4006  Porsche                Taycan        2022    2116       NaN   \n",
       "4007     Ford          F-150 Raptor        2020   33000  Gasoline   \n",
       "4008      BMW          X3 xDrive30i        2020   43000  Gasoline   \n",
       "\n",
       "                                                 engine  \\\n",
       "0         375.0HP 3.5L V6 Cylinder Engine Gasoline Fuel   \n",
       "1     300.0HP 3.0L Straight 6 Cylinder Engine Gasoli...   \n",
       "2          300.0HP 4.2L 8 Cylinder Engine Gasoline Fuel   \n",
       "3     335.0HP 3.0L Straight 6 Cylinder Engine Gasoli...   \n",
       "4         200.0HP 3.8L V6 Cylinder Engine Gasoline Fuel   \n",
       "...                                                 ...   \n",
       "4004                   6.0L W12 48V PDI DOHC Twin Turbo   \n",
       "4005      349.0HP 3.0L V6 Cylinder Engine Gasoline Fuel   \n",
       "4006                                           Electric   \n",
       "4007      450.0HP 3.5L V6 Cylinder Engine Gasoline Fuel   \n",
       "4008       248.0HP 2.0L 4 Cylinder Engine Gasoline Fuel   \n",
       "\n",
       "                           transmission ext_col  int_col  \\\n",
       "0                          10-Speed A/T    Blue     Gray   \n",
       "1                           6-Speed M/T   Black    Black   \n",
       "2                           6-Speed A/T  Purple    Beige   \n",
       "3        Transmission w/Dual Shift Mode    Gray    Brown   \n",
       "4                                   A/T   White    Black   \n",
       "...                                 ...     ...      ...   \n",
       "4004  8-Speed Automatic with Auto-Shift   C / C  Hotspur   \n",
       "4005     Transmission w/Dual Shift Mode   Black    Black   \n",
       "4006                          Automatic   Black    Black   \n",
       "4007                                A/T    Blue    Black   \n",
       "4008                                A/T    Gray    Brown   \n",
       "\n",
       "                                    accident clean_title   price  \n",
       "0                              None reported         Yes   11000  \n",
       "1                              None reported         Yes    8250  \n",
       "2                              None reported         Yes   15000  \n",
       "3                              None reported         Yes   63500  \n",
       "4                              None reported         Yes    7850  \n",
       "...                                      ...         ...     ...  \n",
       "4004                           None reported         Yes  349950  \n",
       "4005                           None reported         Yes   53900  \n",
       "4006                           None reported         NaN   90998  \n",
       "4007                           None reported         Yes   62999  \n",
       "4008  At least 1 accident or damage reported         Yes   40000  \n",
       "\n",
       "[57808 rows x 12 columns]"
      ]
     },
     "execution_count": 12,
     "metadata": {},
     "output_type": "execute_result"
    }
   ],
   "source": [
    "pruned_year"
   ]
  },
  {
   "cell_type": "code",
   "execution_count": 13,
   "id": "1d5a4d8d",
   "metadata": {},
   "outputs": [],
   "source": [
    "milage_mean = pruned_year['milage'].mean()\n",
    "milage_std_dev = pruned_year['milage'].std()\n",
    "lower_bound_milage = milage_mean - 3 * milage_std_dev\n",
    "upper_bound_milage = milage_mean + 3 * milage_std_dev\n",
    "#outliers = train[(train['model_year'] < lower_bound) | (train['model_year'] > upper_bound)]\n",
    "pruned_milage = pruned_year[(pruned_year['milage'] >= lower_bound_milage) & (pruned_year['milage'] <= upper_bound_milage)]\n"
   ]
  },
  {
   "cell_type": "code",
   "execution_count": null,
   "id": "77b3e33a",
   "metadata": {},
   "outputs": [],
   "source": []
  },
  {
   "cell_type": "code",
   "execution_count": 14,
   "id": "426de674",
   "metadata": {},
   "outputs": [
    {
     "data": {
      "text/plain": [
       "<Axes: xlabel='milage', ylabel='Count'>"
      ]
     },
     "execution_count": 14,
     "metadata": {},
     "output_type": "execute_result"
    },
    {
     "data": {
      "image/png": "[encoded data removed]",
      "text/plain": [
       "<Figure size 640x480 with 1 Axes>"
      ]
     },
     "metadata": {},
     "output_type": "display_data"
    }
   ],
   "source": [
    "sns.histplot(train['milage'])"
   ]
  },
  {
   "cell_type": "code",
   "execution_count": 15,
   "id": "df953fbd",
   "metadata": {},
   "outputs": [
    {
     "data": {
      "text/plain": [
       "<Axes: xlabel='milage', ylabel='Count'>"
      ]
     },
     "execution_count": 15,
     "metadata": {},
     "output_type": "execute_result"
    },
    {
     "data": {
      "image/png": "[encoded data removed]",
      "text/plain": [
       "<Figure size 640x480 with 1 Axes>"
      ]
     },
     "metadata": {},
     "output_type": "display_data"
    }
   ],
   "source": [
    "sns.histplot(pruned_milage['milage'])"
   ]
  },
  {
   "cell_type": "code",
   "execution_count": 16,
   "id": "ba661f74",
   "metadata": {},
   "outputs": [],
   "source": [
    "price_mean = pruned_milage['price'].mean()\n",
    "price_std_dev = pruned_milage['price'].std()\n",
    "lower_bound_price = price_mean - 3 * price_std_dev\n",
    "upper_bound_price = price_mean + 3 * price_std_dev\n",
    "#outliers = train[(train['model_year'] < lower_bound) | (train['model_year'] > upper_bound)]\n",
    "pruned_price = pruned_milage[(pruned_milage['price'] >= lower_bound_price) & (pruned_milage['price'] <= upper_bound_price)]\n"
   ]
  },
  {
   "cell_type": "code",
   "execution_count": 17,
   "id": "6a6e9b75",
   "metadata": {},
   "outputs": [
    {
     "data": {
      "text/plain": [
       "<Axes: xlabel='price', ylabel='Count'>"
      ]
     },
     "execution_count": 17,
     "metadata": {},
     "output_type": "execute_result"
    },
    {
     "data": {
      "image/png": "[encoded data removed]",
      "text/plain": [
       "<Figure size 640x480 with 1 Axes>"
      ]
     },
     "metadata": {},
     "output_type": "display_data"
    }
   ],
   "source": [
    "\n",
    "sns.histplot(train['price'])"
   ]
  },
  {
   "cell_type": "code",
   "execution_count": 18,
   "id": "c62157b0",
   "metadata": {},
   "outputs": [
    {
     "data": {
      "text/plain": [
       "<Axes: xlabel='price', ylabel='Count'>"
      ]
     },
     "execution_count": 18,
     "metadata": {},
     "output_type": "execute_result"
    },
    {
     "data": {
      "image/png": "[encoded data removed]",
      "text/plain": [
       "<Figure size 640x480 with 1 Axes>"
      ]
     },
     "metadata": {},
     "output_type": "display_data"
    }
   ],
   "source": [
    "sns.histplot(pruned_price['price'])"
   ]
  },
  {
   "cell_type": "code",
   "execution_count": 19,
   "id": "026a5236",
   "metadata": {},
   "outputs": [
    {
     "data": {
      "text/plain": [
       "<Axes: xlabel='milage', ylabel='Count'>"
      ]
     },
     "execution_count": 19,
     "metadata": {},
     "output_type": "execute_result"
    },
    {
     "data": {
      "image/png": "[encoded data removed]",
      "text/plain": [
       "<Figure size 640x480 with 1 Axes>"
      ]
     },
     "metadata": {},
     "output_type": "display_data"
    }
   ],
   "source": [
    "sns.histplot(np.cbrt(train['milage']))"
   ]
  },
  {
   "cell_type": "code",
   "execution_count": 20,
   "id": "2fb63d6a",
   "metadata": {},
   "outputs": [],
   "source": [
    "train_unskw = pruned_price.copy()"
   ]
  },
  {
   "cell_type": "code",
   "execution_count": null,
   "id": "4f06a374",
   "metadata": {},
   "outputs": [],
   "source": []
  },
  {
   "cell_type": "code",
   "execution_count": null,
   "id": "07536e63",
   "metadata": {},
   "outputs": [],
   "source": []
  },
  {
   "cell_type": "code",
   "execution_count": 21,
   "id": "7ef3e406",
   "metadata": {},
   "outputs": [
    {
     "data": {
      "text/plain": [
       "<matplotlib.collections.PathCollection at 0x1fc66c85630>"
      ]
     },
     "execution_count": 21,
     "metadata": {},
     "output_type": "execute_result"
    },
    {
     "data": {
      "image/png": "[encoded data removed]",
      "text/plain": [
       "<Figure size 640x480 with 1 Axes>"
      ]
     },
     "metadata": {},
     "output_type": "display_data"
    }
   ],
   "source": [
    "plt.scatter(train['model_year'], train['price'])"
   ]
  },
  {
   "cell_type": "code",
   "execution_count": 22,
   "id": "ed0bbd80",
   "metadata": {},
   "outputs": [
    {
     "data": {
      "text/plain": [
       "<matplotlib.collections.PathCollection at 0x1fc6a3cf6a0>"
      ]
     },
     "execution_count": 22,
     "metadata": {},
     "output_type": "execute_result"
    },
    {
     "data": {
      "image/png": "[encoded data removed]",
      "text/plain": [
       "<Figure size 640x480 with 1 Axes>"
      ]
     },
     "metadata": {},
     "output_type": "display_data"
    }
   ],
   "source": [
    "plt.scatter(np.cbrt(train_unskw['model_year']), np.log(train_unskw['price']))"
   ]
  },
  {
   "cell_type": "code",
   "execution_count": 23,
   "id": "cd850dfe",
   "metadata": {},
   "outputs": [
    {
     "data": {
      "text/plain": [
       "<matplotlib.collections.PathCollection at 0x1fc5ddeec80>"
      ]
     },
     "execution_count": 23,
     "metadata": {},
     "output_type": "execute_result"
    },
    {
     "data": {
      "image/png": "[encoded data removed]",
      "text/plain": [
       "<Figure size 640x480 with 1 Axes>"
      ]
     },
     "metadata": {},
     "output_type": "display_data"
    }
   ],
   "source": [
    "plt.scatter(train['milage'], train['price'])"
   ]
  },
  {
   "cell_type": "code",
   "execution_count": 24,
   "id": "240a9b71",
   "metadata": {},
   "outputs": [
    {
     "data": {
      "text/plain": [
       "<matplotlib.collections.PathCollection at 0x1fc6ba5b8b0>"
      ]
     },
     "execution_count": 24,
     "metadata": {},
     "output_type": "execute_result"
    },
    {
     "data": {
      "image/png": "[encoded data removed]",
      "text/plain": [
       "<Figure size 640x480 with 1 Axes>"
      ]
     },
     "metadata": {},
     "output_type": "display_data"
    }
   ],
   "source": [
    "plt.scatter(np.cbrt(train_unskw['milage']), np.log(train_unskw['price']))"
   ]
  },
  {
   "cell_type": "code",
   "execution_count": null,
   "id": "a6d74568",
   "metadata": {},
   "outputs": [],
   "source": []
  },
  {
   "cell_type": "code",
   "execution_count": 25,
   "id": "87f30a28",
   "metadata": {},
   "outputs": [],
   "source": [
    "#log for price, sqrt n sqrt for milage, cbrt n sqrt for year"
   ]
  },
  {
   "cell_type": "code",
   "execution_count": 26,
   "id": "9c5b8b5e",
   "metadata": {},
   "outputs": [
    {
     "data": {
      "text/plain": [
       "<matplotlib.collections.PathCollection at 0x1fc6b4c97e0>"
      ]
     },
     "execution_count": 26,
     "metadata": {},
     "output_type": "execute_result"
    },
    {
     "data": {
      "image/png": "[encoded data removed]",
      "text/plain": [
       "<Figure size 640x480 with 1 Axes>"
      ]
     },
     "metadata": {},
     "output_type": "display_data"
    }
   ],
   "source": [
    "plt.scatter(train_unskw['milage'], train_unskw['price'])"
   ]
  },
  {
   "cell_type": "code",
   "execution_count": 27,
   "id": "fe01d52d",
   "metadata": {},
   "outputs": [],
   "source": [
    "train_unskewed = train_unskw.copy()"
   ]
  },
  {
   "cell_type": "code",
   "execution_count": 28,
   "id": "00c28899",
   "metadata": {},
   "outputs": [],
   "source": [
    "train_unskewed['model_year'] = np.cbrt(train_unskw['model_year'])\n",
    "train_unskewed['milage'] = np.cbrt(train_unskw['milage'])\n",
    "train_unskewed['price'] = np.log(train_unskw['price'])"
   ]
  },
  {
   "cell_type": "code",
   "execution_count": 29,
   "id": "aeae1ecd",
   "metadata": {},
   "outputs": [
    {
     "name": "stderr",
     "output_type": "stream",
     "text": [
      "C:\\Users\\KEI\\AppData\\Local\\Temp\\ipykernel_7484\\3401330098.py:1: UserWarning: \n",
      "\n",
      "`distplot` is a deprecated function and will be removed in seaborn v0.14.0.\n",
      "\n",
      "Please adapt your code to use either `displot` (a figure-level function with\n",
      "similar flexibility) or `histplot` (an axes-level function for histograms).\n",
      "\n",
      "For a guide to updating your code to use the new functions, please see\n",
      "https://gist.github.com/mwaskom/de44147ed2974457ad6372750bbe5751\n",
      "\n",
      "  sns.distplot(train_unskewed['price'])\n"
     ]
    },
    {
     "data": {
      "text/plain": [
       "<Axes: xlabel='price', ylabel='Density'>"
      ]
     },
     "execution_count": 29,
     "metadata": {},
     "output_type": "execute_result"
    },
    {
     "data": {
      "image/png": "[encoded data removed]",
      "text/plain": [
       "<Figure size 640x480 with 1 Axes>"
      ]
     },
     "metadata": {},
     "output_type": "display_data"
    }
   ],
   "source": [
    "sns.distplot(train_unskewed['price'])"
   ]
  },
  {
   "cell_type": "code",
   "execution_count": 30,
   "id": "cf238667",
   "metadata": {},
   "outputs": [],
   "source": [
    "test_unskewed = test.copy()"
   ]
  },
  {
   "cell_type": "code",
   "execution_count": 31,
   "id": "6e904690",
   "metadata": {},
   "outputs": [],
   "source": [
    "test_unskewed['model_year'] = np.cbrt(test_unskewed['model_year'])\n",
    "test_unskewed['milage'] = np.cbrt(test_unskewed['milage'])\n"
   ]
  },
  {
   "cell_type": "code",
   "execution_count": 32,
   "id": "728085e0",
   "metadata": {},
   "outputs": [
    {
     "name": "stdout",
     "output_type": "stream",
     "text": [
      "brand             0\n",
      "model             0\n",
      "model_year        0\n",
      "milage            0\n",
      "fuel_type       170\n",
      "engine            0\n",
      "transmission      0\n",
      "ext_col           0\n",
      "int_col           0\n",
      "accident        109\n",
      "clean_title     579\n",
      "price             0\n",
      "dtype: int64\n",
      "--------------- For test --------------\n",
      "id              0\n",
      "brand           0\n",
      "model           0\n",
      "model_year      0\n",
      "milage          0\n",
      "fuel_type       0\n",
      "engine          0\n",
      "transmission    0\n",
      "ext_col         0\n",
      "int_col         0\n",
      "accident        0\n",
      "clean_title     0\n",
      "dtype: int64\n"
     ]
    }
   ],
   "source": [
    "#checking na\n",
    "print(train_unskewed.isna().sum())\n",
    "print('--------------- For test --------------')\n",
    "print(test_unskewed.isna().sum())"
   ]
  },
  {
   "cell_type": "code",
   "execution_count": 33,
   "id": "be0eb687",
   "metadata": {},
   "outputs": [
    {
     "name": "stdout",
     "output_type": "stream",
     "text": [
      "brand           0\n",
      "model           0\n",
      "model_year      0\n",
      "milage          0\n",
      "fuel_type       0\n",
      "engine          0\n",
      "transmission    0\n",
      "ext_col         0\n",
      "int_col         0\n",
      "accident        0\n",
      "clean_title     0\n",
      "price           0\n",
      "dtype: int64\n"
     ]
    }
   ],
   "source": [
    "train_unskewed_dropped_rows = train_unskewed.dropna()\n",
    "print(train_unskewed_dropped_rows.isna().sum())\n"
   ]
  },
  {
   "cell_type": "code",
   "execution_count": 34,
   "id": "ecda3c66",
   "metadata": {},
   "outputs": [
    {
     "data": {
      "text/plain": [
       "0.9629216567722453"
      ]
     },
     "execution_count": 34,
     "metadata": {},
     "output_type": "execute_result"
    }
   ],
   "source": [
    "len(train_unskewed_dropped_rows)/len(train)"
   ]
  },
  {
   "cell_type": "code",
   "execution_count": 35,
   "id": "a6cbb59f",
   "metadata": {},
   "outputs": [
    {
     "data": {
      "text/html": [
       "<div>\n",
       "<style scoped>\n",
       "    .dataframe tbody tr th:only-of-type {\n",
       "        vertical-align: middle;\n",
       "    }\n",
       "\n",
       "    .dataframe tbody tr th {\n",
       "        vertical-align: top;\n",
       "    }\n",
       "\n",
       "    .dataframe thead th {\n",
       "        text-align: right;\n",
       "    }\n",
       "</style>\n",
       "<table border=\"1\" class=\"dataframe\">\n",
       "  <thead>\n",
       "    <tr style=\"text-align: right;\">\n",
       "      <th></th>\n",
       "      <th>brand</th>\n",
       "      <th>model</th>\n",
       "      <th>model_year</th>\n",
       "      <th>milage</th>\n",
       "      <th>fuel_type</th>\n",
       "      <th>engine</th>\n",
       "      <th>transmission</th>\n",
       "      <th>ext_col</th>\n",
       "      <th>int_col</th>\n",
       "      <th>accident</th>\n",
       "      <th>clean_title</th>\n",
       "      <th>price</th>\n",
       "    </tr>\n",
       "  </thead>\n",
       "  <tbody>\n",
       "    <tr>\n",
       "      <th>0</th>\n",
       "      <td>Ford</td>\n",
       "      <td>F-150 Lariat</td>\n",
       "      <td>12.636895</td>\n",
       "      <td>42.049262</td>\n",
       "      <td>Gasoline</td>\n",
       "      <td>375.0HP 3.5L V6 Cylinder Engine Gasoline Fuel</td>\n",
       "      <td>10-Speed A/T</td>\n",
       "      <td>Blue</td>\n",
       "      <td>Gray</td>\n",
       "      <td>None reported</td>\n",
       "      <td>Yes</td>\n",
       "      <td>9.305651</td>\n",
       "    </tr>\n",
       "    <tr>\n",
       "      <th>1</th>\n",
       "      <td>BMW</td>\n",
       "      <td>335 i</td>\n",
       "      <td>12.613892</td>\n",
       "      <td>43.088694</td>\n",
       "      <td>Gasoline</td>\n",
       "      <td>300.0HP 3.0L Straight 6 Cylinder Engine Gasoli...</td>\n",
       "      <td>6-Speed M/T</td>\n",
       "      <td>Black</td>\n",
       "      <td>Black</td>\n",
       "      <td>None reported</td>\n",
       "      <td>Yes</td>\n",
       "      <td>9.017968</td>\n",
       "    </tr>\n",
       "    <tr>\n",
       "      <th>2</th>\n",
       "      <td>Jaguar</td>\n",
       "      <td>XF Luxury</td>\n",
       "      <td>12.618081</td>\n",
       "      <td>45.060166</td>\n",
       "      <td>Gasoline</td>\n",
       "      <td>300.0HP 4.2L 8 Cylinder Engine Gasoline Fuel</td>\n",
       "      <td>6-Speed A/T</td>\n",
       "      <td>Purple</td>\n",
       "      <td>Beige</td>\n",
       "      <td>None reported</td>\n",
       "      <td>Yes</td>\n",
       "      <td>9.615805</td>\n",
       "    </tr>\n",
       "    <tr>\n",
       "      <th>3</th>\n",
       "      <td>BMW</td>\n",
       "      <td>X7 xDrive40i</td>\n",
       "      <td>12.645239</td>\n",
       "      <td>13.457111</td>\n",
       "      <td>Hybrid</td>\n",
       "      <td>335.0HP 3.0L Straight 6 Cylinder Engine Gasoli...</td>\n",
       "      <td>Transmission w/Dual Shift Mode</td>\n",
       "      <td>Gray</td>\n",
       "      <td>Brown</td>\n",
       "      <td>None reported</td>\n",
       "      <td>Yes</td>\n",
       "      <td>11.058795</td>\n",
       "    </tr>\n",
       "    <tr>\n",
       "      <th>4</th>\n",
       "      <td>Pontiac</td>\n",
       "      <td>Firebird Base</td>\n",
       "      <td>12.601310</td>\n",
       "      <td>48.058955</td>\n",
       "      <td>Gasoline</td>\n",
       "      <td>200.0HP 3.8L V6 Cylinder Engine Gasoline Fuel</td>\n",
       "      <td>A/T</td>\n",
       "      <td>White</td>\n",
       "      <td>Black</td>\n",
       "      <td>None reported</td>\n",
       "      <td>Yes</td>\n",
       "      <td>8.968269</td>\n",
       "    </tr>\n",
       "    <tr>\n",
       "      <th>...</th>\n",
       "      <td>...</td>\n",
       "      <td>...</td>\n",
       "      <td>...</td>\n",
       "      <td>...</td>\n",
       "      <td>...</td>\n",
       "      <td>...</td>\n",
       "      <td>...</td>\n",
       "      <td>...</td>\n",
       "      <td>...</td>\n",
       "      <td>...</td>\n",
       "      <td>...</td>\n",
       "      <td>...</td>\n",
       "    </tr>\n",
       "    <tr>\n",
       "      <th>4002</th>\n",
       "      <td>Mercedes-Benz</td>\n",
       "      <td>AMG GLS 63 4MATIC</td>\n",
       "      <td>12.647324</td>\n",
       "      <td>12.599210</td>\n",
       "      <td>Hybrid</td>\n",
       "      <td>603.0HP 4.0L 8 Cylinder Engine Gasoline/Mild E...</td>\n",
       "      <td>9-Speed A/T</td>\n",
       "      <td>Gray</td>\n",
       "      <td>Beige</td>\n",
       "      <td>None reported</td>\n",
       "      <td>Yes</td>\n",
       "      <td>12.072541</td>\n",
       "    </tr>\n",
       "    <tr>\n",
       "      <th>4003</th>\n",
       "      <td>Mercedes-Benz</td>\n",
       "      <td>E-Class E 300 4MATIC</td>\n",
       "      <td>12.636895</td>\n",
       "      <td>37.728677</td>\n",
       "      <td>Gasoline</td>\n",
       "      <td>241.0HP 2.0L 4 Cylinder Engine Gasoline Fuel</td>\n",
       "      <td>A/T</td>\n",
       "      <td>Black</td>\n",
       "      <td>Black</td>\n",
       "      <td>At least 1 accident or damage reported</td>\n",
       "      <td>Yes</td>\n",
       "      <td>10.161998</td>\n",
       "    </tr>\n",
       "    <tr>\n",
       "      <th>4005</th>\n",
       "      <td>Audi</td>\n",
       "      <td>S4 3.0T Premium Plus</td>\n",
       "      <td>12.645239</td>\n",
       "      <td>22.172202</td>\n",
       "      <td>Gasoline</td>\n",
       "      <td>349.0HP 3.0L V6 Cylinder Engine Gasoline Fuel</td>\n",
       "      <td>Transmission w/Dual Shift Mode</td>\n",
       "      <td>Black</td>\n",
       "      <td>Black</td>\n",
       "      <td>None reported</td>\n",
       "      <td>Yes</td>\n",
       "      <td>10.894886</td>\n",
       "    </tr>\n",
       "    <tr>\n",
       "      <th>4007</th>\n",
       "      <td>Ford</td>\n",
       "      <td>F-150 Raptor</td>\n",
       "      <td>12.641069</td>\n",
       "      <td>32.075343</td>\n",
       "      <td>Gasoline</td>\n",
       "      <td>450.0HP 3.5L V6 Cylinder Engine Gasoline Fuel</td>\n",
       "      <td>A/T</td>\n",
       "      <td>Blue</td>\n",
       "      <td>Black</td>\n",
       "      <td>None reported</td>\n",
       "      <td>Yes</td>\n",
       "      <td>11.050874</td>\n",
       "    </tr>\n",
       "    <tr>\n",
       "      <th>4008</th>\n",
       "      <td>BMW</td>\n",
       "      <td>X3 xDrive30i</td>\n",
       "      <td>12.641069</td>\n",
       "      <td>35.033981</td>\n",
       "      <td>Gasoline</td>\n",
       "      <td>248.0HP 2.0L 4 Cylinder Engine Gasoline Fuel</td>\n",
       "      <td>A/T</td>\n",
       "      <td>Gray</td>\n",
       "      <td>Brown</td>\n",
       "      <td>At least 1 accident or damage reported</td>\n",
       "      <td>Yes</td>\n",
       "      <td>10.596635</td>\n",
       "    </tr>\n",
       "  </tbody>\n",
       "</table>\n",
       "<p>56121 rows × 12 columns</p>\n",
       "</div>"
      ],
      "text/plain": [
       "              brand                 model  model_year     milage fuel_type  \\\n",
       "0              Ford          F-150 Lariat   12.636895  42.049262  Gasoline   \n",
       "1               BMW                 335 i   12.613892  43.088694  Gasoline   \n",
       "2            Jaguar             XF Luxury   12.618081  45.060166  Gasoline   \n",
       "3               BMW          X7 xDrive40i   12.645239  13.457111    Hybrid   \n",
       "4           Pontiac         Firebird Base   12.601310  48.058955  Gasoline   \n",
       "...             ...                   ...         ...        ...       ...   \n",
       "4002  Mercedes-Benz     AMG GLS 63 4MATIC   12.647324  12.599210    Hybrid   \n",
       "4003  Mercedes-Benz  E-Class E 300 4MATIC   12.636895  37.728677  Gasoline   \n",
       "4005           Audi  S4 3.0T Premium Plus   12.645239  22.172202  Gasoline   \n",
       "4007           Ford          F-150 Raptor   12.641069  32.075343  Gasoline   \n",
       "4008            BMW          X3 xDrive30i   12.641069  35.033981  Gasoline   \n",
       "\n",
       "                                                 engine  \\\n",
       "0         375.0HP 3.5L V6 Cylinder Engine Gasoline Fuel   \n",
       "1     300.0HP 3.0L Straight 6 Cylinder Engine Gasoli...   \n",
       "2          300.0HP 4.2L 8 Cylinder Engine Gasoline Fuel   \n",
       "3     335.0HP 3.0L Straight 6 Cylinder Engine Gasoli...   \n",
       "4         200.0HP 3.8L V6 Cylinder Engine Gasoline Fuel   \n",
       "...                                                 ...   \n",
       "4002  603.0HP 4.0L 8 Cylinder Engine Gasoline/Mild E...   \n",
       "4003       241.0HP 2.0L 4 Cylinder Engine Gasoline Fuel   \n",
       "4005      349.0HP 3.0L V6 Cylinder Engine Gasoline Fuel   \n",
       "4007      450.0HP 3.5L V6 Cylinder Engine Gasoline Fuel   \n",
       "4008       248.0HP 2.0L 4 Cylinder Engine Gasoline Fuel   \n",
       "\n",
       "                        transmission ext_col int_col  \\\n",
       "0                       10-Speed A/T    Blue    Gray   \n",
       "1                        6-Speed M/T   Black   Black   \n",
       "2                        6-Speed A/T  Purple   Beige   \n",
       "3     Transmission w/Dual Shift Mode    Gray   Brown   \n",
       "4                                A/T   White   Black   \n",
       "...                              ...     ...     ...   \n",
       "4002                     9-Speed A/T    Gray   Beige   \n",
       "4003                             A/T   Black   Black   \n",
       "4005  Transmission w/Dual Shift Mode   Black   Black   \n",
       "4007                             A/T    Blue   Black   \n",
       "4008                             A/T    Gray   Brown   \n",
       "\n",
       "                                    accident clean_title      price  \n",
       "0                              None reported         Yes   9.305651  \n",
       "1                              None reported         Yes   9.017968  \n",
       "2                              None reported         Yes   9.615805  \n",
       "3                              None reported         Yes  11.058795  \n",
       "4                              None reported         Yes   8.968269  \n",
       "...                                      ...         ...        ...  \n",
       "4002                           None reported         Yes  12.072541  \n",
       "4003  At least 1 accident or damage reported         Yes  10.161998  \n",
       "4005                           None reported         Yes  10.894886  \n",
       "4007                           None reported         Yes  11.050874  \n",
       "4008  At least 1 accident or damage reported         Yes  10.596635  \n",
       "\n",
       "[56121 rows x 12 columns]"
      ]
     },
     "execution_count": 35,
     "metadata": {},
     "output_type": "execute_result"
    }
   ],
   "source": [
    "train_unskewed_dropped_rows"
   ]
  },
  {
   "cell_type": "code",
   "execution_count": 36,
   "id": "9e50a84b",
   "metadata": {},
   "outputs": [
    {
     "data": {
      "text/plain": [
       "BMW              7633\n",
       "Ford             6829\n",
       "Mercedes-Benz    5291\n",
       "Chevrolet        4515\n",
       "Audi             3059\n",
       "Porsche          2697\n",
       "Lexus            2357\n",
       "Toyota           2343\n",
       "Jeep             2279\n",
       "Land             2067\n",
       "Cadillac         1611\n",
       "Nissan           1295\n",
       "GMC              1137\n",
       "Dodge            1037\n",
       "RAM              1032\n",
       "INFINITI         1007\n",
       "Lincoln           807\n",
       "Subaru            791\n",
       "Mazda             775\n",
       "Hyundai           748\n",
       "Volkswagen        675\n",
       "Jaguar            669\n",
       "Honda             649\n",
       "Acura             602\n",
       "Kia               568\n",
       "Volvo             473\n",
       "MINI              393\n",
       "Maserati          309\n",
       "Bentley           285\n",
       "Chrysler          277\n",
       "Genesis           262\n",
       "Buick             246\n",
       "Mitsubishi        198\n",
       "Hummer            186\n",
       "Alfa              154\n",
       "Pontiac           151\n",
       "Rolls-Royce       126\n",
       "Tesla             109\n",
       "Lamborghini       107\n",
       "Ferrari            70\n",
       "Saturn             61\n",
       "Scion              59\n",
       "Aston              50\n",
       "McLaren            40\n",
       "Rivian             27\n",
       "FIAT               20\n",
       "Lotus              15\n",
       "Mercury            14\n",
       "Suzuki              5\n",
       "Maybach             4\n",
       "Lucid               2\n",
       "Plymouth            2\n",
       "Saab                2\n",
       "smart               1\n",
       "Name: brand, dtype: int64"
      ]
     },
     "execution_count": 36,
     "metadata": {},
     "output_type": "execute_result"
    }
   ],
   "source": [
    "#testing linearity\n",
    "train_unskewed_dropped_rows['brand'].value_counts()"
   ]
  },
  {
   "cell_type": "code",
   "execution_count": 37,
   "id": "978f7212",
   "metadata": {},
   "outputs": [
    {
     "data": {
      "text/html": [
       "<div>\n",
       "<style scoped>\n",
       "    .dataframe tbody tr th:only-of-type {\n",
       "        vertical-align: middle;\n",
       "    }\n",
       "\n",
       "    .dataframe tbody tr th {\n",
       "        vertical-align: top;\n",
       "    }\n",
       "\n",
       "    .dataframe thead th {\n",
       "        text-align: right;\n",
       "    }\n",
       "</style>\n",
       "<table border=\"1\" class=\"dataframe\">\n",
       "  <thead>\n",
       "    <tr style=\"text-align: right;\">\n",
       "      <th></th>\n",
       "      <th>brand</th>\n",
       "      <th>model</th>\n",
       "      <th>model_year</th>\n",
       "      <th>milage</th>\n",
       "      <th>fuel_type</th>\n",
       "      <th>engine</th>\n",
       "      <th>transmission</th>\n",
       "      <th>ext_col</th>\n",
       "      <th>int_col</th>\n",
       "      <th>accident</th>\n",
       "      <th>clean_title</th>\n",
       "      <th>price</th>\n",
       "    </tr>\n",
       "  </thead>\n",
       "  <tbody>\n",
       "    <tr>\n",
       "      <th>390</th>\n",
       "      <td>Suzuki</td>\n",
       "      <td>SX4 Base</td>\n",
       "      <td>12.626450</td>\n",
       "      <td>46.413103</td>\n",
       "      <td>Gasoline</td>\n",
       "      <td>150.0HP 2.0L 4 Cylinder Engine Gasoline Fuel</td>\n",
       "      <td>M/T</td>\n",
       "      <td>Orange</td>\n",
       "      <td>Gray</td>\n",
       "      <td>At least 1 accident or damage reported</td>\n",
       "      <td>Yes</td>\n",
       "      <td>9.392662</td>\n",
       "    </tr>\n",
       "    <tr>\n",
       "      <th>16905</th>\n",
       "      <td>Suzuki</td>\n",
       "      <td>SX4 Base</td>\n",
       "      <td>12.609701</td>\n",
       "      <td>45.078054</td>\n",
       "      <td>Gasoline</td>\n",
       "      <td>150.0HP 2.0L 4 Cylinder Engine Gasoline Fuel</td>\n",
       "      <td>M/T</td>\n",
       "      <td>White</td>\n",
       "      <td>Black</td>\n",
       "      <td>None reported</td>\n",
       "      <td>Yes</td>\n",
       "      <td>8.779404</td>\n",
       "    </tr>\n",
       "    <tr>\n",
       "      <th>21966</th>\n",
       "      <td>Suzuki</td>\n",
       "      <td>SX4 Base</td>\n",
       "      <td>12.620174</td>\n",
       "      <td>48.791982</td>\n",
       "      <td>Gasoline</td>\n",
       "      <td>158.0HP 2.0L 4 Cylinder Engine Gasoline Fuel</td>\n",
       "      <td>M/T</td>\n",
       "      <td>Red</td>\n",
       "      <td>Black</td>\n",
       "      <td>None reported</td>\n",
       "      <td>Yes</td>\n",
       "      <td>8.987197</td>\n",
       "    </tr>\n",
       "    <tr>\n",
       "      <th>38070</th>\n",
       "      <td>Suzuki</td>\n",
       "      <td>SX4 Base</td>\n",
       "      <td>12.628540</td>\n",
       "      <td>44.310476</td>\n",
       "      <td>Gasoline</td>\n",
       "      <td>150.0HP 2.0L 4 Cylinder Engine Gasoline Fuel</td>\n",
       "      <td>A/T</td>\n",
       "      <td>Silver</td>\n",
       "      <td>Black</td>\n",
       "      <td>At least 1 accident or damage reported</td>\n",
       "      <td>Yes</td>\n",
       "      <td>9.792556</td>\n",
       "    </tr>\n",
       "    <tr>\n",
       "      <th>3982</th>\n",
       "      <td>Suzuki</td>\n",
       "      <td>SX4 Base</td>\n",
       "      <td>12.626450</td>\n",
       "      <td>46.413103</td>\n",
       "      <td>Gasoline</td>\n",
       "      <td>150.0HP 2.0L 4 Cylinder Engine Gasoline Fuel</td>\n",
       "      <td>M/T</td>\n",
       "      <td>Orange</td>\n",
       "      <td>Gray</td>\n",
       "      <td>At least 1 accident or damage reported</td>\n",
       "      <td>Yes</td>\n",
       "      <td>8.839277</td>\n",
       "    </tr>\n",
       "  </tbody>\n",
       "</table>\n",
       "</div>"
      ],
      "text/plain": [
       "        brand     model  model_year     milage fuel_type  \\\n",
       "390    Suzuki  SX4 Base   12.626450  46.413103  Gasoline   \n",
       "16905  Suzuki  SX4 Base   12.609701  45.078054  Gasoline   \n",
       "21966  Suzuki  SX4 Base   12.620174  48.791982  Gasoline   \n",
       "38070  Suzuki  SX4 Base   12.628540  44.310476  Gasoline   \n",
       "3982   Suzuki  SX4 Base   12.626450  46.413103  Gasoline   \n",
       "\n",
       "                                             engine transmission ext_col  \\\n",
       "390    150.0HP 2.0L 4 Cylinder Engine Gasoline Fuel          M/T  Orange   \n",
       "16905  150.0HP 2.0L 4 Cylinder Engine Gasoline Fuel          M/T   White   \n",
       "21966  158.0HP 2.0L 4 Cylinder Engine Gasoline Fuel          M/T     Red   \n",
       "38070  150.0HP 2.0L 4 Cylinder Engine Gasoline Fuel          A/T  Silver   \n",
       "3982   150.0HP 2.0L 4 Cylinder Engine Gasoline Fuel          M/T  Orange   \n",
       "\n",
       "      int_col                                accident clean_title     price  \n",
       "390      Gray  At least 1 accident or damage reported         Yes  9.392662  \n",
       "16905   Black                           None reported         Yes  8.779404  \n",
       "21966   Black                           None reported         Yes  8.987197  \n",
       "38070   Black  At least 1 accident or damage reported         Yes  9.792556  \n",
       "3982     Gray  At least 1 accident or damage reported         Yes  8.839277  "
      ]
     },
     "execution_count": 37,
     "metadata": {},
     "output_type": "execute_result"
    }
   ],
   "source": [
    "lin_trial1 = train_unskewed_dropped_rows[train_unskewed_dropped_rows['brand']=='Suzuki']\n",
    "lin_trial1.head()"
   ]
  },
  {
   "cell_type": "code",
   "execution_count": 38,
   "id": "45608e9b",
   "metadata": {},
   "outputs": [
    {
     "data": {
      "text/plain": [
       "<matplotlib.collections.PathCollection at 0x1fc6bc27f10>"
      ]
     },
     "execution_count": 38,
     "metadata": {},
     "output_type": "execute_result"
    },
    {
     "data": {
      "image/png": "[encoded data removed]",
      "text/plain": [
       "<Figure size 640x480 with 1 Axes>"
      ]
     },
     "metadata": {},
     "output_type": "display_data"
    }
   ],
   "source": [
    "plt.scatter(lin_trial1['milage'], lin_trial1['price'])"
   ]
  },
  {
   "cell_type": "code",
   "execution_count": 39,
   "id": "1128f42f",
   "metadata": {},
   "outputs": [],
   "source": [
    "#the model seems to be a bit linear but for smaller brands, it doesnt understand"
   ]
  },
  {
   "cell_type": "code",
   "execution_count": 40,
   "id": "6324c3c9",
   "metadata": {},
   "outputs": [],
   "source": [
    "#encoder\n",
    "def fit_label_encoders(train_df, categorical_features):\n",
    "    train_df = train_df.copy()\n",
    "    label_encoders = {}\n",
    "    for col in categorical_features:\n",
    "        le = LabelEncoder()\n",
    "        train_df[col] = le.fit_transform(train_df[col])\n",
    "        label_encoders[col] = le\n",
    "    return train_df, label_encoders\n",
    "\n",
    "def transform_with_label_encoders(df, label_encoders):\n",
    "    df = df.copy()\n",
    "    for col, le in label_encoders.items():\n",
    "        # Use fillna with a placeholder, e.g., 'unknown', for unseen categories\n",
    "        df[col] = df[col].map(lambda s: 'unknown' if s not in le.classes_ else s)\n",
    "        le.classes_ = np.append(le.classes_, 'unknown')\n",
    "        df[col] = le.transform(df[col])\n",
    "    return df\n"
   ]
  },
  {
   "cell_type": "code",
   "execution_count": 41,
   "id": "fbc5b7ba",
   "metadata": {},
   "outputs": [
    {
     "data": {
      "text/plain": [
       "Index(['brand', 'model', 'model_year', 'milage', 'fuel_type', 'engine',\n",
       "       'transmission', 'ext_col', 'int_col', 'accident', 'clean_title',\n",
       "       'price'],\n",
       "      dtype='object')"
      ]
     },
     "execution_count": 41,
     "metadata": {},
     "output_type": "execute_result"
    }
   ],
   "source": [
    "train_unskewed_dropped_rows.columns"
   ]
  },
  {
   "cell_type": "code",
   "execution_count": 42,
   "id": "b1c3560e",
   "metadata": {},
   "outputs": [],
   "source": [
    "# List of categorical features\n",
    "categorical_features = ['brand', 'model', 'fuel_type', 'engine', 'transmission', 'ext_col', 'int_col', 'accident', 'clean_title']\n",
    "\n",
    "# Encode training data\n",
    "train_df, label_encoders = fit_label_encoders(train_unskewed_dropped_rows, categorical_features)"
   ]
  },
  {
   "cell_type": "code",
   "execution_count": 43,
   "id": "4a1515bb",
   "metadata": {},
   "outputs": [
    {
     "data": {
      "text/html": [
       "<div>\n",
       "<style scoped>\n",
       "    .dataframe tbody tr th:only-of-type {\n",
       "        vertical-align: middle;\n",
       "    }\n",
       "\n",
       "    .dataframe tbody tr th {\n",
       "        vertical-align: top;\n",
       "    }\n",
       "\n",
       "    .dataframe thead th {\n",
       "        text-align: right;\n",
       "    }\n",
       "</style>\n",
       "<table border=\"1\" class=\"dataframe\">\n",
       "  <thead>\n",
       "    <tr style=\"text-align: right;\">\n",
       "      <th></th>\n",
       "      <th>brand</th>\n",
       "      <th>model</th>\n",
       "      <th>model_year</th>\n",
       "      <th>milage</th>\n",
       "      <th>fuel_type</th>\n",
       "      <th>engine</th>\n",
       "      <th>transmission</th>\n",
       "      <th>ext_col</th>\n",
       "      <th>int_col</th>\n",
       "      <th>accident</th>\n",
       "      <th>clean_title</th>\n",
       "      <th>price</th>\n",
       "    </tr>\n",
       "  </thead>\n",
       "  <tbody>\n",
       "    <tr>\n",
       "      <th>0</th>\n",
       "      <td>13</td>\n",
       "      <td>640</td>\n",
       "      <td>12.636895</td>\n",
       "      <td>42.049262</td>\n",
       "      <td>2</td>\n",
       "      <td>720</td>\n",
       "      <td>2</td>\n",
       "      <td>25</td>\n",
       "      <td>57</td>\n",
       "      <td>1</td>\n",
       "      <td>0</td>\n",
       "      <td>9.305651</td>\n",
       "    </tr>\n",
       "    <tr>\n",
       "      <th>1</th>\n",
       "      <td>4</td>\n",
       "      <td>47</td>\n",
       "      <td>12.613892</td>\n",
       "      <td>43.088694</td>\n",
       "      <td>2</td>\n",
       "      <td>535</td>\n",
       "      <td>18</td>\n",
       "      <td>16</td>\n",
       "      <td>9</td>\n",
       "      <td>1</td>\n",
       "      <td>0</td>\n",
       "      <td>9.017968</td>\n",
       "    </tr>\n",
       "    <tr>\n",
       "      <th>2</th>\n",
       "      <td>20</td>\n",
       "      <td>1765</td>\n",
       "      <td>12.618081</td>\n",
       "      <td>45.060166</td>\n",
       "      <td>2</td>\n",
       "      <td>542</td>\n",
       "      <td>14</td>\n",
       "      <td>180</td>\n",
       "      <td>6</td>\n",
       "      <td>1</td>\n",
       "      <td>0</td>\n",
       "      <td>9.615805</td>\n",
       "    </tr>\n",
       "    <tr>\n",
       "      <th>3</th>\n",
       "      <td>4</td>\n",
       "      <td>1742</td>\n",
       "      <td>12.645239</td>\n",
       "      <td>13.457111</td>\n",
       "      <td>3</td>\n",
       "      <td>647</td>\n",
       "      <td>43</td>\n",
       "      <td>99</td>\n",
       "      <td>24</td>\n",
       "      <td>1</td>\n",
       "      <td>0</td>\n",
       "      <td>11.058795</td>\n",
       "    </tr>\n",
       "    <tr>\n",
       "      <th>4</th>\n",
       "      <td>39</td>\n",
       "      <td>689</td>\n",
       "      <td>12.601310</td>\n",
       "      <td>48.058955</td>\n",
       "      <td>2</td>\n",
       "      <td>221</td>\n",
       "      <td>34</td>\n",
       "      <td>248</td>\n",
       "      <td>9</td>\n",
       "      <td>1</td>\n",
       "      <td>0</td>\n",
       "      <td>8.968269</td>\n",
       "    </tr>\n",
       "  </tbody>\n",
       "</table>\n",
       "</div>"
      ],
      "text/plain": [
       "   brand  model  model_year     milage  fuel_type  engine  transmission  \\\n",
       "0     13    640   12.636895  42.049262          2     720             2   \n",
       "1      4     47   12.613892  43.088694          2     535            18   \n",
       "2     20   1765   12.618081  45.060166          2     542            14   \n",
       "3      4   1742   12.645239  13.457111          3     647            43   \n",
       "4     39    689   12.601310  48.058955          2     221            34   \n",
       "\n",
       "   ext_col  int_col  accident  clean_title      price  \n",
       "0       25       57         1            0   9.305651  \n",
       "1       16        9         1            0   9.017968  \n",
       "2      180        6         1            0   9.615805  \n",
       "3       99       24         1            0  11.058795  \n",
       "4      248        9         1            0   8.968269  "
      ]
     },
     "execution_count": 43,
     "metadata": {},
     "output_type": "execute_result"
    }
   ],
   "source": [
    "train_df.head()"
   ]
  },
  {
   "cell_type": "code",
   "execution_count": 44,
   "id": "f0683254",
   "metadata": {},
   "outputs": [],
   "source": [
    "test_df = transform_with_label_encoders(test_unskewed, label_encoders)\n"
   ]
  },
  {
   "cell_type": "code",
   "execution_count": 45,
   "id": "78c281c1",
   "metadata": {},
   "outputs": [
    {
     "data": {
      "text/html": [
       "<div>\n",
       "<style scoped>\n",
       "    .dataframe tbody tr th:only-of-type {\n",
       "        vertical-align: middle;\n",
       "    }\n",
       "\n",
       "    .dataframe tbody tr th {\n",
       "        vertical-align: top;\n",
       "    }\n",
       "\n",
       "    .dataframe thead th {\n",
       "        text-align: right;\n",
       "    }\n",
       "</style>\n",
       "<table border=\"1\" class=\"dataframe\">\n",
       "  <thead>\n",
       "    <tr style=\"text-align: right;\">\n",
       "      <th></th>\n",
       "      <th>id</th>\n",
       "      <th>brand</th>\n",
       "      <th>model</th>\n",
       "      <th>model_year</th>\n",
       "      <th>milage</th>\n",
       "      <th>fuel_type</th>\n",
       "      <th>engine</th>\n",
       "      <th>transmission</th>\n",
       "      <th>ext_col</th>\n",
       "      <th>int_col</th>\n",
       "      <th>accident</th>\n",
       "      <th>clean_title</th>\n",
       "    </tr>\n",
       "  </thead>\n",
       "  <tbody>\n",
       "    <tr>\n",
       "      <th>0</th>\n",
       "      <td>54273</td>\n",
       "      <td>34</td>\n",
       "      <td>534</td>\n",
       "      <td>12.628540</td>\n",
       "      <td>41.793392</td>\n",
       "      <td>2</td>\n",
       "      <td>555</td>\n",
       "      <td>34</td>\n",
       "      <td>248</td>\n",
       "      <td>6</td>\n",
       "      <td>1</td>\n",
       "      <td>0</td>\n",
       "    </tr>\n",
       "    <tr>\n",
       "      <th>1</th>\n",
       "      <td>54274</td>\n",
       "      <td>25</td>\n",
       "      <td>1260</td>\n",
       "      <td>12.630630</td>\n",
       "      <td>50.401041</td>\n",
       "      <td>2</td>\n",
       "      <td>416</td>\n",
       "      <td>27</td>\n",
       "      <td>211</td>\n",
       "      <td>9</td>\n",
       "      <td>1</td>\n",
       "      <td>0</td>\n",
       "    </tr>\n",
       "    <tr>\n",
       "      <th>2</th>\n",
       "      <td>54275</td>\n",
       "      <td>34</td>\n",
       "      <td>322</td>\n",
       "      <td>12.630630</td>\n",
       "      <td>37.321044</td>\n",
       "      <td>2</td>\n",
       "      <td>315</td>\n",
       "      <td>21</td>\n",
       "      <td>25</td>\n",
       "      <td>120</td>\n",
       "      <td>1</td>\n",
       "      <td>0</td>\n",
       "    </tr>\n",
       "    <tr>\n",
       "      <th>3</th>\n",
       "      <td>54276</td>\n",
       "      <td>24</td>\n",
       "      <td>1339</td>\n",
       "      <td>12.636895</td>\n",
       "      <td>30.898733</td>\n",
       "      <td>2</td>\n",
       "      <td>933</td>\n",
       "      <td>43</td>\n",
       "      <td>248</td>\n",
       "      <td>120</td>\n",
       "      <td>0</td>\n",
       "      <td>0</td>\n",
       "    </tr>\n",
       "    <tr>\n",
       "      <th>4</th>\n",
       "      <td>54277</td>\n",
       "      <td>4</td>\n",
       "      <td>1738</td>\n",
       "      <td>12.641069</td>\n",
       "      <td>44.814047</td>\n",
       "      <td>2</td>\n",
       "      <td>646</td>\n",
       "      <td>27</td>\n",
       "      <td>248</td>\n",
       "      <td>9</td>\n",
       "      <td>0</td>\n",
       "      <td>0</td>\n",
       "    </tr>\n",
       "  </tbody>\n",
       "</table>\n",
       "</div>"
      ],
      "text/plain": [
       "      id  brand  model  model_year     milage  fuel_type  engine  \\\n",
       "0  54273     34    534   12.628540  41.793392          2     555   \n",
       "1  54274     25   1260   12.630630  50.401041          2     416   \n",
       "2  54275     34    322   12.630630  37.321044          2     315   \n",
       "3  54276     24   1339   12.636895  30.898733          2     933   \n",
       "4  54277      4   1738   12.641069  44.814047          2     646   \n",
       "\n",
       "   transmission  ext_col  int_col  accident  clean_title  \n",
       "0            34      248        6         1            0  \n",
       "1            27      211        9         1            0  \n",
       "2            21       25      120         1            0  \n",
       "3            43      248      120         0            0  \n",
       "4            27      248        9         0            0  "
      ]
     },
     "execution_count": 45,
     "metadata": {},
     "output_type": "execute_result"
    }
   ],
   "source": [
    "test_df.head()"
   ]
  },
  {
   "cell_type": "code",
   "execution_count": null,
   "id": "ce6a05c6",
   "metadata": {},
   "outputs": [],
   "source": []
  },
  {
   "cell_type": "markdown",
   "id": "bd817ec2",
   "metadata": {},
   "source": [
    "# dataset, I had already augmented the original dataset in a csv"
   ]
  },
  {
   "cell_type": "code",
   "execution_count": 46,
   "id": "9874d391",
   "metadata": {},
   "outputs": [],
   "source": [
    "# Split train data into training and validation sets\n",
    "X = train_df.drop(['price'], axis=1)\n",
    "y = train_df['price']\n",
    "X_train, X_val, y_train, y_val = train_test_split(X, y, test_size=0.2, random_state=42)"
   ]
  },
  {
   "cell_type": "code",
   "execution_count": 47,
   "id": "d79fdbf1",
   "metadata": {},
   "outputs": [
    {
     "data": {
      "text/plain": [
       "Index(['id', 'brand', 'model', 'model_year', 'milage', 'fuel_type', 'engine',\n",
       "       'transmission', 'ext_col', 'int_col', 'accident', 'clean_title'],\n",
       "      dtype='object')"
      ]
     },
     "execution_count": 47,
     "metadata": {},
     "output_type": "execute_result"
    }
   ],
   "source": [
    "test_df.columns"
   ]
  },
  {
   "cell_type": "code",
   "execution_count": 48,
   "id": "d3cbeeae",
   "metadata": {},
   "outputs": [],
   "source": [
    "X_test = test_df.drop(['id'], axis=1)"
   ]
  },
  {
   "cell_type": "code",
   "execution_count": 49,
   "id": "a034a11d",
   "metadata": {},
   "outputs": [
    {
     "data": {
      "text/plain": [
       "array([ True,  True,  True,  True,  True,  True,  True,  True,  True,\n",
       "        True,  True])"
      ]
     },
     "execution_count": 49,
     "metadata": {},
     "output_type": "execute_result"
    }
   ],
   "source": [
    "X_test.columns == X_train.columns"
   ]
  },
  {
   "cell_type": "markdown",
   "id": "d9fd62cc",
   "metadata": {},
   "source": [
    "# Linear regression"
   ]
  },
  {
   "cell_type": "code",
   "execution_count": 260,
   "id": "fa55c77f",
   "metadata": {},
   "outputs": [],
   "source": [
    "from sklearn.model_selection import train_test_split\n",
    "from sklearn.linear_model import LinearRegression\n",
    "from sklearn.metrics import mean_squared_error\n",
    "from sklearn.preprocessing import StandardScaler\n"
   ]
  },
  {
   "cell_type": "code",
   "execution_count": 261,
   "id": "028b39bf",
   "metadata": {},
   "outputs": [],
   "source": [
    "# Initialize the scaler\n",
    "scaler = StandardScaler()\n",
    "\n",
    "# Fit the scaler on the training data and transform both training and validation data\n",
    "X_train_scaled = scaler.fit_transform(X_train)\n",
    "X_val_scaled = scaler.transform(X_val)"
   ]
  },
  {
   "cell_type": "code",
   "execution_count": 262,
   "id": "8edc1a12",
   "metadata": {},
   "outputs": [
    {
     "name": "stdout",
     "output_type": "stream",
     "text": [
      "\n",
      "-------------on Train ----------------\n",
      "RMSE : 23234.850654878897\n",
      "\n",
      "-------------on Test ----------------\n",
      "RMSE : 23064.45406919733\n"
     ]
    }
   ],
   "source": [
    "# Initialize the linear regression model\n",
    "model1 = LinearRegression()\n",
    "\n",
    "# Train the model\n",
    "model1.fit(X_train_scaled, y_train)\n",
    "\n",
    "# Make predictions on the validation set\n",
    "X_scaled = scaler.transform(X)\n",
    "y_ = model1.predict(X_scaled)\n",
    "y_pred = model1.predict(X_val_scaled)\n",
    "\n",
    "# Calculate RMSE\n",
    "print(\"\\n-------------on Train ----------------\")\n",
    "rmse_tr = np.sqrt(mean_squared_error(np.exp(y), np.exp(y_)))\n",
    "print(f'RMSE : {rmse_tr}')\n",
    "print(\"\\n-------------on Test ----------------\")\n",
    "rmse = np.sqrt(mean_squared_error(np.exp(y_val), np.exp(y_pred)))\n",
    "print(f'RMSE : {rmse}')"
   ]
  },
  {
   "cell_type": "code",
   "execution_count": 253,
   "id": "af49ac8e",
   "metadata": {},
   "outputs": [
    {
     "data": {
      "text/html": [
       "<div>\n",
       "<style scoped>\n",
       "    .dataframe tbody tr th:only-of-type {\n",
       "        vertical-align: middle;\n",
       "    }\n",
       "\n",
       "    .dataframe tbody tr th {\n",
       "        vertical-align: top;\n",
       "    }\n",
       "\n",
       "    .dataframe thead th {\n",
       "        text-align: right;\n",
       "    }\n",
       "</style>\n",
       "<table border=\"1\" class=\"dataframe\">\n",
       "  <thead>\n",
       "    <tr style=\"text-align: right;\">\n",
       "      <th></th>\n",
       "      <th>brand</th>\n",
       "      <th>model</th>\n",
       "      <th>model_year</th>\n",
       "      <th>milage</th>\n",
       "      <th>fuel_type</th>\n",
       "      <th>engine</th>\n",
       "      <th>transmission</th>\n",
       "      <th>ext_col</th>\n",
       "      <th>int_col</th>\n",
       "      <th>accident</th>\n",
       "      <th>clean_title</th>\n",
       "      <th>price</th>\n",
       "    </tr>\n",
       "  </thead>\n",
       "  <tbody>\n",
       "    <tr>\n",
       "      <th>0</th>\n",
       "      <td>Ford</td>\n",
       "      <td>F-150 Lariat</td>\n",
       "      <td>12.636895</td>\n",
       "      <td>42.049262</td>\n",
       "      <td>Gasoline</td>\n",
       "      <td>375.0HP 3.5L V6 Cylinder Engine Gasoline Fuel</td>\n",
       "      <td>10-Speed A/T</td>\n",
       "      <td>Blue</td>\n",
       "      <td>Gray</td>\n",
       "      <td>None reported</td>\n",
       "      <td>Yes</td>\n",
       "      <td>9.305651</td>\n",
       "    </tr>\n",
       "    <tr>\n",
       "      <th>1</th>\n",
       "      <td>BMW</td>\n",
       "      <td>335 i</td>\n",
       "      <td>12.613892</td>\n",
       "      <td>43.088694</td>\n",
       "      <td>Gasoline</td>\n",
       "      <td>300.0HP 3.0L Straight 6 Cylinder Engine Gasoli...</td>\n",
       "      <td>6-Speed M/T</td>\n",
       "      <td>Black</td>\n",
       "      <td>Black</td>\n",
       "      <td>None reported</td>\n",
       "      <td>Yes</td>\n",
       "      <td>9.017968</td>\n",
       "    </tr>\n",
       "    <tr>\n",
       "      <th>2</th>\n",
       "      <td>Jaguar</td>\n",
       "      <td>XF Luxury</td>\n",
       "      <td>12.618081</td>\n",
       "      <td>45.060166</td>\n",
       "      <td>Gasoline</td>\n",
       "      <td>300.0HP 4.2L 8 Cylinder Engine Gasoline Fuel</td>\n",
       "      <td>6-Speed A/T</td>\n",
       "      <td>Purple</td>\n",
       "      <td>Beige</td>\n",
       "      <td>None reported</td>\n",
       "      <td>Yes</td>\n",
       "      <td>9.615805</td>\n",
       "    </tr>\n",
       "    <tr>\n",
       "      <th>3</th>\n",
       "      <td>BMW</td>\n",
       "      <td>X7 xDrive40i</td>\n",
       "      <td>12.645239</td>\n",
       "      <td>13.457111</td>\n",
       "      <td>Hybrid</td>\n",
       "      <td>335.0HP 3.0L Straight 6 Cylinder Engine Gasoli...</td>\n",
       "      <td>Transmission w/Dual Shift Mode</td>\n",
       "      <td>Gray</td>\n",
       "      <td>Brown</td>\n",
       "      <td>None reported</td>\n",
       "      <td>Yes</td>\n",
       "      <td>11.058795</td>\n",
       "    </tr>\n",
       "    <tr>\n",
       "      <th>4</th>\n",
       "      <td>Pontiac</td>\n",
       "      <td>Firebird Base</td>\n",
       "      <td>12.601310</td>\n",
       "      <td>48.058955</td>\n",
       "      <td>Gasoline</td>\n",
       "      <td>200.0HP 3.8L V6 Cylinder Engine Gasoline Fuel</td>\n",
       "      <td>A/T</td>\n",
       "      <td>White</td>\n",
       "      <td>Black</td>\n",
       "      <td>None reported</td>\n",
       "      <td>Yes</td>\n",
       "      <td>8.968269</td>\n",
       "    </tr>\n",
       "  </tbody>\n",
       "</table>\n",
       "</div>"
      ],
      "text/plain": [
       "     brand          model  model_year     milage fuel_type  \\\n",
       "0     Ford   F-150 Lariat   12.636895  42.049262  Gasoline   \n",
       "1      BMW          335 i   12.613892  43.088694  Gasoline   \n",
       "2   Jaguar      XF Luxury   12.618081  45.060166  Gasoline   \n",
       "3      BMW   X7 xDrive40i   12.645239  13.457111    Hybrid   \n",
       "4  Pontiac  Firebird Base   12.601310  48.058955  Gasoline   \n",
       "\n",
       "                                              engine  \\\n",
       "0      375.0HP 3.5L V6 Cylinder Engine Gasoline Fuel   \n",
       "1  300.0HP 3.0L Straight 6 Cylinder Engine Gasoli...   \n",
       "2       300.0HP 4.2L 8 Cylinder Engine Gasoline Fuel   \n",
       "3  335.0HP 3.0L Straight 6 Cylinder Engine Gasoli...   \n",
       "4      200.0HP 3.8L V6 Cylinder Engine Gasoline Fuel   \n",
       "\n",
       "                     transmission ext_col int_col       accident clean_title  \\\n",
       "0                    10-Speed A/T    Blue    Gray  None reported         Yes   \n",
       "1                     6-Speed M/T   Black   Black  None reported         Yes   \n",
       "2                     6-Speed A/T  Purple   Beige  None reported         Yes   \n",
       "3  Transmission w/Dual Shift Mode    Gray   Brown  None reported         Yes   \n",
       "4                             A/T   White   Black  None reported         Yes   \n",
       "\n",
       "       price  \n",
       "0   9.305651  \n",
       "1   9.017968  \n",
       "2   9.615805  \n",
       "3  11.058795  \n",
       "4   8.968269  "
      ]
     },
     "execution_count": 253,
     "metadata": {},
     "output_type": "execute_result"
    }
   ],
   "source": [
    "train_unskewed_dropped_rows.head()"
   ]
  },
  {
   "cell_type": "code",
   "execution_count": 252,
   "id": "95ccc3eb",
   "metadata": {},
   "outputs": [
    {
     "data": {
      "text/html": [
       "<div>\n",
       "<style scoped>\n",
       "    .dataframe tbody tr th:only-of-type {\n",
       "        vertical-align: middle;\n",
       "    }\n",
       "\n",
       "    .dataframe tbody tr th {\n",
       "        vertical-align: top;\n",
       "    }\n",
       "\n",
       "    .dataframe thead th {\n",
       "        text-align: right;\n",
       "    }\n",
       "</style>\n",
       "<table border=\"1\" class=\"dataframe\">\n",
       "  <thead>\n",
       "    <tr style=\"text-align: right;\">\n",
       "      <th></th>\n",
       "      <th>brand</th>\n",
       "      <th>model</th>\n",
       "      <th>model_year</th>\n",
       "      <th>milage</th>\n",
       "      <th>fuel_type</th>\n",
       "      <th>engine</th>\n",
       "      <th>transmission</th>\n",
       "      <th>ext_col</th>\n",
       "      <th>int_col</th>\n",
       "      <th>accident</th>\n",
       "      <th>clean_title</th>\n",
       "      <th>price</th>\n",
       "    </tr>\n",
       "  </thead>\n",
       "  <tbody>\n",
       "    <tr>\n",
       "      <th>0</th>\n",
       "      <td>Ford</td>\n",
       "      <td>F-150 Lariat</td>\n",
       "      <td>2018</td>\n",
       "      <td>74349</td>\n",
       "      <td>Gasoline</td>\n",
       "      <td>375.0HP 3.5L V6 Cylinder Engine Gasoline Fuel</td>\n",
       "      <td>10-Speed A/T</td>\n",
       "      <td>Blue</td>\n",
       "      <td>Gray</td>\n",
       "      <td>None reported</td>\n",
       "      <td>Yes</td>\n",
       "      <td>11000</td>\n",
       "    </tr>\n",
       "    <tr>\n",
       "      <th>1</th>\n",
       "      <td>BMW</td>\n",
       "      <td>335 i</td>\n",
       "      <td>2007</td>\n",
       "      <td>80000</td>\n",
       "      <td>Gasoline</td>\n",
       "      <td>300.0HP 3.0L Straight 6 Cylinder Engine Gasoli...</td>\n",
       "      <td>6-Speed M/T</td>\n",
       "      <td>Black</td>\n",
       "      <td>Black</td>\n",
       "      <td>None reported</td>\n",
       "      <td>Yes</td>\n",
       "      <td>8250</td>\n",
       "    </tr>\n",
       "    <tr>\n",
       "      <th>2</th>\n",
       "      <td>Jaguar</td>\n",
       "      <td>XF Luxury</td>\n",
       "      <td>2009</td>\n",
       "      <td>91491</td>\n",
       "      <td>Gasoline</td>\n",
       "      <td>300.0HP 4.2L 8 Cylinder Engine Gasoline Fuel</td>\n",
       "      <td>6-Speed A/T</td>\n",
       "      <td>Purple</td>\n",
       "      <td>Beige</td>\n",
       "      <td>None reported</td>\n",
       "      <td>Yes</td>\n",
       "      <td>15000</td>\n",
       "    </tr>\n",
       "    <tr>\n",
       "      <th>3</th>\n",
       "      <td>BMW</td>\n",
       "      <td>X7 xDrive40i</td>\n",
       "      <td>2022</td>\n",
       "      <td>2437</td>\n",
       "      <td>Hybrid</td>\n",
       "      <td>335.0HP 3.0L Straight 6 Cylinder Engine Gasoli...</td>\n",
       "      <td>Transmission w/Dual Shift Mode</td>\n",
       "      <td>Gray</td>\n",
       "      <td>Brown</td>\n",
       "      <td>None reported</td>\n",
       "      <td>Yes</td>\n",
       "      <td>63500</td>\n",
       "    </tr>\n",
       "    <tr>\n",
       "      <th>4</th>\n",
       "      <td>Pontiac</td>\n",
       "      <td>Firebird Base</td>\n",
       "      <td>2001</td>\n",
       "      <td>111000</td>\n",
       "      <td>Gasoline</td>\n",
       "      <td>200.0HP 3.8L V6 Cylinder Engine Gasoline Fuel</td>\n",
       "      <td>A/T</td>\n",
       "      <td>White</td>\n",
       "      <td>Black</td>\n",
       "      <td>None reported</td>\n",
       "      <td>Yes</td>\n",
       "      <td>7850</td>\n",
       "    </tr>\n",
       "  </tbody>\n",
       "</table>\n",
       "</div>"
      ],
      "text/plain": [
       "     brand          model  model_year  milage fuel_type  \\\n",
       "0     Ford   F-150 Lariat        2018   74349  Gasoline   \n",
       "1      BMW          335 i        2007   80000  Gasoline   \n",
       "2   Jaguar      XF Luxury        2009   91491  Gasoline   \n",
       "3      BMW   X7 xDrive40i        2022    2437    Hybrid   \n",
       "4  Pontiac  Firebird Base        2001  111000  Gasoline   \n",
       "\n",
       "                                              engine  \\\n",
       "0      375.0HP 3.5L V6 Cylinder Engine Gasoline Fuel   \n",
       "1  300.0HP 3.0L Straight 6 Cylinder Engine Gasoli...   \n",
       "2       300.0HP 4.2L 8 Cylinder Engine Gasoline Fuel   \n",
       "3  335.0HP 3.0L Straight 6 Cylinder Engine Gasoli...   \n",
       "4      200.0HP 3.8L V6 Cylinder Engine Gasoline Fuel   \n",
       "\n",
       "                     transmission ext_col int_col       accident clean_title  \\\n",
       "0                    10-Speed A/T    Blue    Gray  None reported         Yes   \n",
       "1                     6-Speed M/T   Black   Black  None reported         Yes   \n",
       "2                     6-Speed A/T  Purple   Beige  None reported         Yes   \n",
       "3  Transmission w/Dual Shift Mode    Gray   Brown  None reported         Yes   \n",
       "4                             A/T   White   Black  None reported         Yes   \n",
       "\n",
       "   price  \n",
       "0  11000  \n",
       "1   8250  \n",
       "2  15000  \n",
       "3  63500  \n",
       "4   7850  "
      ]
     },
     "execution_count": 252,
     "metadata": {},
     "output_type": "execute_result"
    }
   ],
   "source": [
    "train.head()"
   ]
  },
  {
   "cell_type": "code",
   "execution_count": 254,
   "id": "17cffdaf",
   "metadata": {},
   "outputs": [
    {
     "data": {
      "text/plain": [
       "0     9.305651\n",
       "1     9.017968\n",
       "2     9.615805\n",
       "3    11.058795\n",
       "4     8.968269\n",
       "Name: price, dtype: float64"
      ]
     },
     "execution_count": 254,
     "metadata": {},
     "output_type": "execute_result"
    }
   ],
   "source": [
    "y.head()"
   ]
  },
  {
   "cell_type": "code",
   "execution_count": 256,
   "id": "ab3b2d18",
   "metadata": {},
   "outputs": [
    {
     "data": {
      "text/plain": [
       "0    11000.0\n",
       "1     8250.0\n",
       "2    15000.0\n",
       "3    63500.0\n",
       "4     7850.0\n",
       "Name: price, dtype: float64"
      ]
     },
     "execution_count": 256,
     "metadata": {},
     "output_type": "execute_result"
    }
   ],
   "source": [
    "np.exp(y)[:5]"
   ]
  },
  {
   "cell_type": "code",
   "execution_count": 264,
   "id": "7a295765",
   "metadata": {},
   "outputs": [
    {
     "data": {
      "text/plain": [
       "array([32897.36719378, 14719.32478444, 16308.81385137, 69995.00775619,\n",
       "        7750.90203704])"
      ]
     },
     "execution_count": 264,
     "metadata": {},
     "output_type": "execute_result"
    }
   ],
   "source": [
    "np.exp(y_)[:5]"
   ]
  },
  {
   "cell_type": "code",
   "execution_count": 263,
   "id": "fc330f17",
   "metadata": {},
   "outputs": [
    {
     "data": {
      "image/png": "[encoded data removed]",
      "text/plain": [
       "<Figure size 640x480 with 1 Axes>"
      ]
     },
     "metadata": {},
     "output_type": "display_data"
    }
   ],
   "source": [
    "plt.scatter(y, y_)\n",
    "plt.xlabel('true')\n",
    "plt.ylabel('predicted')\n",
    "plt.show()"
   ]
  },
  {
   "cell_type": "markdown",
   "id": "69699810",
   "metadata": {},
   "source": [
    "# Random forest"
   ]
  },
  {
   "cell_type": "code",
   "execution_count": 265,
   "id": "72a3eec3",
   "metadata": {},
   "outputs": [],
   "source": [
    "from sklearn.model_selection import train_test_split\n",
    "from sklearn.ensemble import RandomForestRegressor\n",
    "from sklearn.metrics import mean_squared_error"
   ]
  },
  {
   "cell_type": "code",
   "execution_count": 266,
   "id": "9758dee7",
   "metadata": {},
   "outputs": [
    {
     "name": "stdout",
     "output_type": "stream",
     "text": [
      "\n",
      "-------------on Train ----------------\n",
      "RMSE : 13810.140728582803\n",
      "\n",
      "-------------on Test ----------------\n",
      "RMSE : 22068.773496409696\n"
     ]
    }
   ],
   "source": [
    "# Initialize the linear regression model\n",
    "model2 = RandomForestRegressor(random_state=42)\n",
    "\n",
    "# Train the model\n",
    "model2.fit(X_train, y_train)\n",
    "\n",
    "# Make predictions on the validation set\n",
    "y_2 = model2.predict(X)\n",
    "y_pred_2 = model2.predict(X_val)\n",
    "\n",
    "# Calculate RMSE\n",
    "print(\"\\n-------------on Train ----------------\")\n",
    "rmse_tr = np.sqrt(mean_squared_error(np.exp(y), np.exp(y_2)))\n",
    "print(f'RMSE : {rmse_tr}')\n",
    "print(\"\\n-------------on Test ----------------\")\n",
    "rmse = np.sqrt(mean_squared_error(np.exp(y_val), np.exp(y_pred_2)))\n",
    "print(f'RMSE : {rmse}')"
   ]
  },
  {
   "cell_type": "code",
   "execution_count": 268,
   "id": "0e922416",
   "metadata": {},
   "outputs": [
    {
     "data": {
      "text/plain": [
       "array([17611.43892046, 11271.22334906, 12946.01885181, 70911.06265071,\n",
       "       13849.85761204])"
      ]
     },
     "execution_count": 268,
     "metadata": {},
     "output_type": "execute_result"
    }
   ],
   "source": [
    "np.exp(y_2)[:5]"
   ]
  },
  {
   "cell_type": "code",
   "execution_count": 269,
   "id": "cec1ba98",
   "metadata": {},
   "outputs": [
    {
     "data": {
      "image/png": "[encoded data removed]",
      "text/plain": [
       "<Figure size 640x480 with 1 Axes>"
      ]
     },
     "metadata": {},
     "output_type": "display_data"
    }
   ],
   "source": [
    "plt.scatter(y, y_2)\n",
    "plt.xlabel('true')\n",
    "plt.ylabel('predicted')\n",
    "plt.show()"
   ]
  },
  {
   "cell_type": "markdown",
   "id": "ea214b0c",
   "metadata": {},
   "source": [
    "# Gradient boost regressor"
   ]
  },
  {
   "cell_type": "code",
   "execution_count": 271,
   "id": "14986279",
   "metadata": {},
   "outputs": [],
   "source": [
    "from sklearn.ensemble import GradientBoostingRegressor\n"
   ]
  },
  {
   "cell_type": "code",
   "execution_count": 272,
   "id": "d9e08ece",
   "metadata": {},
   "outputs": [
    {
     "name": "stdout",
     "output_type": "stream",
     "text": [
      "\n",
      "-------------on Train ----------------\n",
      "RMSE : 22132.49615901129\n",
      "\n",
      "-------------on Test ----------------\n",
      "RMSE : 22182.287611918648\n"
     ]
    }
   ],
   "source": [
    "# Initialize the linear regression model\n",
    "model3 = GradientBoostingRegressor(random_state=42)\n",
    "\n",
    "# Train the model\n",
    "model3.fit(X_train, y_train)\n",
    "\n",
    "# Make predictions on the validation set\n",
    "y_3 = model3.predict(X)\n",
    "y_pred_3 = model3.predict(X_val)\n",
    "\n",
    "# Calculate RMSE\n",
    "print(\"\\n-------------on Train ----------------\")\n",
    "rmse_tr = np.sqrt(mean_squared_error(np.exp(y), np.exp(y_3)))\n",
    "print(f'RMSE : {rmse_tr}')\n",
    "print(\"\\n-------------on Test ----------------\")\n",
    "rmse = np.sqrt(mean_squared_error(np.exp(y_val), np.exp(y_pred_3)))\n",
    "print(f'RMSE : {rmse}')"
   ]
  },
  {
   "cell_type": "code",
   "execution_count": 275,
   "id": "28c7343d",
   "metadata": {},
   "outputs": [
    {
     "data": {
      "text/plain": [
       "array([33526.91435201, 16674.18711971, 12694.11698514, 62715.28717429,\n",
       "        8977.75791756])"
      ]
     },
     "execution_count": 275,
     "metadata": {},
     "output_type": "execute_result"
    }
   ],
   "source": [
    "np.exp(y_3)[:5]"
   ]
  },
  {
   "cell_type": "code",
   "execution_count": 276,
   "id": "32683d96",
   "metadata": {},
   "outputs": [
    {
     "data": {
      "image/png": "[encoded data removed]",
      "text/plain": [
       "<Figure size 640x480 with 1 Axes>"
      ]
     },
     "metadata": {},
     "output_type": "display_data"
    }
   ],
   "source": [
    "plt.scatter(y, y_3)\n",
    "plt.xlabel('true')\n",
    "plt.ylabel('predicted')\n",
    "plt.show()"
   ]
  },
  {
   "cell_type": "markdown",
   "id": "67b3a880",
   "metadata": {},
   "source": [
    "# xgboost"
   ]
  },
  {
   "cell_type": "code",
   "execution_count": 277,
   "id": "3f568b2e",
   "metadata": {},
   "outputs": [
    {
     "ename": "ModuleNotFoundError",
     "evalue": "No module named 'xgboost'",
     "output_type": "error",
     "traceback": [
      "\u001b[1;31m---------------------------------------------------------------------------\u001b[0m",
      "\u001b[1;31mModuleNotFoundError\u001b[0m                       Traceback (most recent call last)",
      "Cell \u001b[1;32mIn[277], line 1\u001b[0m\n\u001b[1;32m----> 1\u001b[0m \u001b[38;5;28;01mimport\u001b[39;00m \u001b[38;5;21;01mxgboost\u001b[39;00m \u001b[38;5;28;01mas\u001b[39;00m \u001b[38;5;21;01mxgb\u001b[39;00m\n",
      "\u001b[1;31mModuleNotFoundError\u001b[0m: No module named 'xgboost'"
     ]
    }
   ],
   "source": [
    "# i hadnt installed this module yet\n",
    "#import xgboost as xgb\n"
   ]
  },
  {
   "cell_type": "markdown",
   "id": "61ee085b",
   "metadata": {},
   "source": [
    "# lightgbm"
   ]
  },
  {
   "cell_type": "code",
   "execution_count": 279,
   "id": "d5796f19",
   "metadata": {},
   "outputs": [],
   "source": [
    "from lightgbm import LGBMRegressor\n"
   ]
  },
  {
   "cell_type": "code",
   "execution_count": 280,
   "id": "d5c6ad45",
   "metadata": {},
   "outputs": [
    {
     "name": "stdout",
     "output_type": "stream",
     "text": [
      "[LightGBM] [Info] Auto-choosing col-wise multi-threading, the overhead of testing was 0.003673 seconds.\n",
      "You can set `force_col_wise=true` to remove the overhead.\n",
      "[LightGBM] [Info] Total Bins 1155\n",
      "[LightGBM] [Info] Number of data points in the train set: 44896, number of used features: 10\n",
      "[LightGBM] [Info] Start training from score 10.185550\n",
      "\n",
      "-------------on Train ----------------\n",
      "RMSE : 21437.350250202097\n",
      "\n",
      "-------------on Test ----------------\n",
      "RMSE : 21827.864943516648\n"
     ]
    }
   ],
   "source": [
    "# Initialize the linear regression model\n",
    "model5 = LGBMRegressor(random_state=42)\n",
    "\n",
    "# Train the model\n",
    "model5.fit(X_train, y_train)\n",
    "\n",
    "# Make predictions on the validation set\n",
    "y_5 = model5.predict(X)\n",
    "y_pred_5 = model5.predict(X_val)\n",
    "\n",
    "# Calculate RMSE\n",
    "print(\"\\n-------------on Train ----------------\")\n",
    "rmse_tr = np.sqrt(mean_squared_error(np.exp(y), np.exp(y_5)))\n",
    "print(f'RMSE : {rmse_tr}')\n",
    "print(\"\\n-------------on Test ----------------\")\n",
    "rmse = np.sqrt(mean_squared_error(np.exp(y_val), np.exp(y_pred_5)))\n",
    "print(f'RMSE : {rmse}')"
   ]
  },
  {
   "cell_type": "code",
   "execution_count": 281,
   "id": "31b6f4ca",
   "metadata": {},
   "outputs": [
    {
     "data": {
      "text/plain": [
       "array([34404.05584538, 15645.34481598, 12530.71448174, 65550.6999863 ,\n",
       "       10170.24148241])"
      ]
     },
     "execution_count": 281,
     "metadata": {},
     "output_type": "execute_result"
    }
   ],
   "source": [
    "np.exp(y_5)[:5]"
   ]
  },
  {
   "cell_type": "code",
   "execution_count": 287,
   "id": "394c49f1",
   "metadata": {},
   "outputs": [
    {
     "data": {
      "image/png": "[encoded data removed]",
      "text/plain": [
       "<Figure size 640x480 with 1 Axes>"
      ]
     },
     "metadata": {},
     "output_type": "display_data"
    }
   ],
   "source": [
    "plt.scatter(y, y_5)\n",
    "plt.xlabel('true')\n",
    "plt.ylabel('predicted')\n",
    "plt.show()"
   ]
  },
  {
   "cell_type": "markdown",
   "id": "dc030b08",
   "metadata": {},
   "source": [
    "# Kmeans + linear regression"
   ]
  },
  {
   "cell_type": "code",
   "execution_count": 288,
   "id": "0943f3d2",
   "metadata": {},
   "outputs": [],
   "source": [
    "from sklearn.cluster import KMeans\n"
   ]
  },
  {
   "cell_type": "code",
   "execution_count": 308,
   "id": "d62c713e",
   "metadata": {},
   "outputs": [
    {
     "name": "stderr",
     "output_type": "stream",
     "text": [
      "C:\\ProgramData\\anaconda3\\lib\\site-packages\\sklearn\\cluster\\_kmeans.py:870: FutureWarning: The default value of `n_init` will change from 10 to 'auto' in 1.4. Set the value of `n_init` explicitly to suppress the warning\n",
      "  warnings.warn(\n"
     ]
    }
   ],
   "source": [
    "#generate clusters\n",
    "# Initialize KMeans with desired number of clusters\n",
    "kmeans = KMeans(n_clusters=5, random_state=42)\n",
    "\n",
    "# Fit KMeans on the training data\n",
    "kmeans.fit(X_train)\n",
    "\n",
    "# Obtain cluster labels for training and validation data\n",
    "X_train_clusters = kmeans.predict(X_train)\n",
    "X_val_clusters = kmeans.predict(X_val)"
   ]
  },
  {
   "cell_type": "code",
   "execution_count": 309,
   "id": "9bca0fac",
   "metadata": {},
   "outputs": [],
   "source": [
    "X_clusters = kmeans.predict(X)"
   ]
  },
  {
   "cell_type": "code",
   "execution_count": 310,
   "id": "2d9994d3",
   "metadata": {},
   "outputs": [],
   "source": [
    "# Add cluster labels as new features\n",
    "X_train_k = X_train.copy()\n",
    "X_val_k = X_val.copy()\n",
    "X_k = X.copy()\n",
    "\n",
    "X_train_k['cluster'] = X_train_clusters\n",
    "X_val_k['cluster'] = X_val_clusters\n",
    "X_k['cluster'] = X_clusters"
   ]
  },
  {
   "cell_type": "code",
   "execution_count": 311,
   "id": "0a3e54d4",
   "metadata": {},
   "outputs": [
    {
     "name": "stdout",
     "output_type": "stream",
     "text": [
      "\n",
      "-------------on Train ----------------\n",
      "RMSE : 23235.50613984393\n",
      "\n",
      "-------------on Test ----------------\n",
      "RMSE : 23065.158171788786\n"
     ]
    }
   ],
   "source": [
    "# Initialize the linear regression model\n",
    "model6 = LinearRegression()\n",
    "\n",
    "# Train the model\n",
    "model6.fit(X_train_k, y_train)\n",
    "\n",
    "# Make predictions on the validation set\n",
    "y_6 = model6.predict(X_k)\n",
    "y_pred_6 = model6.predict(X_val_k)\n",
    "\n",
    "# Calculate RMSE\n",
    "print(\"\\n-------------on Train ----------------\")\n",
    "rmse_tr = np.sqrt(mean_squared_error(np.exp(y), np.exp(y_6)))\n",
    "print(f'RMSE : {rmse_tr}')\n",
    "print(\"\\n-------------on Test ----------------\")\n",
    "rmse = np.sqrt(mean_squared_error(np.exp(y_val), np.exp(y_pred_6)))\n",
    "print(f'RMSE : {rmse}')"
   ]
  },
  {
   "cell_type": "code",
   "execution_count": 313,
   "id": "1d299885",
   "metadata": {},
   "outputs": [
    {
     "name": "stdout",
     "output_type": "stream",
     "text": [
      "\n",
      "-------------on Train ----------------\n",
      "RMSE : 13814.627124781318\n",
      "\n",
      "-------------on Test ----------------\n",
      "RMSE : 22081.637715990404\n"
     ]
    }
   ],
   "source": [
    "# Initialize the linear regression model\n",
    "model7 = RandomForestRegressor(random_state=42)\n",
    "\n",
    "# Train the model\n",
    "model7.fit(X_train_k, y_train)\n",
    "\n",
    "# Make predictions on the validation set\n",
    "y_7 = model7.predict(X_k)\n",
    "y_pred_7 = model7.predict(X_val_k)\n",
    "\n",
    "# Calculate RMSE\n",
    "print(\"\\n-------------on Train ----------------\")\n",
    "rmse_tr = np.sqrt(mean_squared_error(np.exp(y), np.exp(y_7)))\n",
    "print(f'RMSE : {rmse_tr}')\n",
    "print(\"\\n-------------on Test ----------------\")\n",
    "rmse = np.sqrt(mean_squared_error(np.exp(y_val), np.exp(y_pred_7)))\n",
    "print(f'RMSE : {rmse}')"
   ]
  },
  {
   "cell_type": "code",
   "execution_count": null,
   "id": "03dc95d9",
   "metadata": {},
   "outputs": [],
   "source": []
  },
  {
   "cell_type": "markdown",
   "id": "882a998b",
   "metadata": {},
   "source": [
    "# Neural network"
   ]
  },
  {
   "cell_type": "code",
   "execution_count": 316,
   "id": "dd067c28",
   "metadata": {},
   "outputs": [],
   "source": [
    "from sklearn.neural_network import MLPRegressor\n"
   ]
  },
  {
   "cell_type": "code",
   "execution_count": 318,
   "id": "2a6c4208",
   "metadata": {},
   "outputs": [
    {
     "ename": "TypeError",
     "evalue": "BaseMultilayerPerceptron.fit() got an unexpected keyword argument 'verbose'",
     "output_type": "error",
     "traceback": [
      "\u001b[1;31m---------------------------------------------------------------------------\u001b[0m",
      "\u001b[1;31mTypeError\u001b[0m                                 Traceback (most recent call last)",
      "Cell \u001b[1;32mIn[318], line 11\u001b[0m\n\u001b[0;32m      2\u001b[0m model8 \u001b[38;5;241m=\u001b[39m MLPRegressor(hidden_layer_sizes\u001b[38;5;241m=\u001b[39m(\u001b[38;5;241m100\u001b[39m, \u001b[38;5;241m20\u001b[39m),\n\u001b[0;32m      3\u001b[0m                      activation\u001b[38;5;241m=\u001b[39m\u001b[38;5;124m'\u001b[39m\u001b[38;5;124mrelu\u001b[39m\u001b[38;5;124m'\u001b[39m,\n\u001b[0;32m      4\u001b[0m                      solver\u001b[38;5;241m=\u001b[39m\u001b[38;5;124m'\u001b[39m\u001b[38;5;124madam\u001b[39m\u001b[38;5;124m'\u001b[39m,\n\u001b[1;32m   (...)\u001b[0m\n\u001b[0;32m      7\u001b[0m                      batch_size\u001b[38;5;241m=\u001b[39m\u001b[38;5;241m32\u001b[39m,\n\u001b[0;32m      8\u001b[0m                      random_state\u001b[38;5;241m=\u001b[39m\u001b[38;5;241m42\u001b[39m)\n\u001b[0;32m     10\u001b[0m \u001b[38;5;66;03m# Train the model\u001b[39;00m\n\u001b[1;32m---> 11\u001b[0m \u001b[43mmodel8\u001b[49m\u001b[38;5;241;43m.\u001b[39;49m\u001b[43mfit\u001b[49m\u001b[43m(\u001b[49m\u001b[43mX_train\u001b[49m\u001b[43m,\u001b[49m\u001b[43m \u001b[49m\u001b[43my_train\u001b[49m\u001b[43m,\u001b[49m\u001b[43m \u001b[49m\u001b[43mverbose\u001b[49m\u001b[38;5;241;43m=\u001b[39;49m\u001b[38;5;28;43;01mTrue\u001b[39;49;00m\u001b[43m)\u001b[49m\n\u001b[0;32m     13\u001b[0m \u001b[38;5;66;03m# Make predictions on the validation set\u001b[39;00m\n\u001b[0;32m     14\u001b[0m y_8 \u001b[38;5;241m=\u001b[39m model8\u001b[38;5;241m.\u001b[39mpredict(X)\n",
      "\u001b[1;31mTypeError\u001b[0m: BaseMultilayerPerceptron.fit() got an unexpected keyword argument 'verbose'"
     ]
    }
   ],
   "source": [
    "#this guy failed to work, probably i did a wrong initiation\n",
    "\"\"\"\n",
    "# Initialize the linear regression model\n",
    "model8 = MLPRegressor(hidden_layer_sizes=(100, 20),\n",
    "                     activation='relu',\n",
    "                     solver='adam',\n",
    "                     learning_rate='constant',\n",
    "                     learning_rate_init=0.01,\n",
    "                     batch_size=32,\n",
    "                     random_state=42)\n",
    "\n",
    "# Train the model\n",
    "model8.fit(X_train, y_train, verbose=True)\n",
    "\n",
    "# Make predictions on the validation set\n",
    "y_8 = model8.predict(X)\n",
    "y_pred_8 = model8.predict(X_val)\n",
    "\n",
    "# Calculate RMSE\n",
    "print(\"\\n-------------on Train ----------------\")\n",
    "rmse_tr = np.sqrt(mean_squared_error(np.exp(y), np.exp(y_8)))\n",
    "print(f'RMSE : {rmse_tr}')\n",
    "print(\"\\n-------------on Test ----------------\")\n",
    "rmse = np.sqrt(mean_squared_error(np.exp(y_val), np.exp(y_pred_8)))\n",
    "print(f'RMSE : {rmse}')\n",
    "\n",
    "\"\"\""
   ]
  },
  {
   "cell_type": "markdown",
   "id": "5a976c42",
   "metadata": {},
   "source": [
    "# Winner"
   ]
  },
  {
   "cell_type": "code",
   "execution_count": 324,
   "id": "dd5aea8d",
   "metadata": {},
   "outputs": [
    {
     "name": "stdout",
     "output_type": "stream",
     "text": [
      "\n",
      "-------------on Train ----------------\n",
      "RMSE : 10823.757752288824\n"
     ]
    }
   ],
   "source": [
    "# Initialize the linear regression model\n",
    "model_final = RandomForestRegressor(random_state=42)\n",
    "\n",
    "# Train the model\n",
    "model_final.fit(X, y)\n",
    "\n",
    "# Make predictions on the validation set\n",
    "y_final = model_final.predict(X)\n",
    "\n",
    "# Calculate RMSE\n",
    "print(\"\\n-------------on Train ----------------\")\n",
    "rmse_tr = np.sqrt(mean_squared_error(np.exp(y), np.exp(y_final)))\n",
    "print(f'RMSE : {rmse_tr}')\n"
   ]
  },
  {
   "cell_type": "code",
   "execution_count": 325,
   "id": "e6f75ab7",
   "metadata": {},
   "outputs": [],
   "source": [
    "y_pred_final = model_final.predict(X_test)\n"
   ]
  },
  {
   "cell_type": "code",
   "execution_count": 326,
   "id": "84adbf36",
   "metadata": {},
   "outputs": [],
   "source": [
    "X_test_p = X_test.copy()"
   ]
  },
  {
   "cell_type": "code",
   "execution_count": 329,
   "id": "53bdbaa5",
   "metadata": {},
   "outputs": [],
   "source": [
    "X_test_p['price']=np.exp(y_pred_final)"
   ]
  },
  {
   "cell_type": "code",
   "execution_count": 330,
   "id": "79c04a53",
   "metadata": {},
   "outputs": [
    {
     "data": {
      "text/html": [
       "<div>\n",
       "<style scoped>\n",
       "    .dataframe tbody tr th:only-of-type {\n",
       "        vertical-align: middle;\n",
       "    }\n",
       "\n",
       "    .dataframe tbody tr th {\n",
       "        vertical-align: top;\n",
       "    }\n",
       "\n",
       "    .dataframe thead th {\n",
       "        text-align: right;\n",
       "    }\n",
       "</style>\n",
       "<table border=\"1\" class=\"dataframe\">\n",
       "  <thead>\n",
       "    <tr style=\"text-align: right;\">\n",
       "      <th></th>\n",
       "      <th>brand</th>\n",
       "      <th>model</th>\n",
       "      <th>model_year</th>\n",
       "      <th>milage</th>\n",
       "      <th>fuel_type</th>\n",
       "      <th>engine</th>\n",
       "      <th>transmission</th>\n",
       "      <th>ext_col</th>\n",
       "      <th>int_col</th>\n",
       "      <th>accident</th>\n",
       "      <th>clean_title</th>\n",
       "      <th>price</th>\n",
       "    </tr>\n",
       "  </thead>\n",
       "  <tbody>\n",
       "    <tr>\n",
       "      <th>0</th>\n",
       "      <td>34</td>\n",
       "      <td>534</td>\n",
       "      <td>12.628540</td>\n",
       "      <td>41.793392</td>\n",
       "      <td>2</td>\n",
       "      <td>555</td>\n",
       "      <td>34</td>\n",
       "      <td>248</td>\n",
       "      <td>6</td>\n",
       "      <td>1</td>\n",
       "      <td>0</td>\n",
       "      <td>20105.954926</td>\n",
       "    </tr>\n",
       "    <tr>\n",
       "      <th>1</th>\n",
       "      <td>25</td>\n",
       "      <td>1260</td>\n",
       "      <td>12.630630</td>\n",
       "      <td>50.401041</td>\n",
       "      <td>2</td>\n",
       "      <td>416</td>\n",
       "      <td>27</td>\n",
       "      <td>211</td>\n",
       "      <td>9</td>\n",
       "      <td>1</td>\n",
       "      <td>0</td>\n",
       "      <td>15352.016293</td>\n",
       "    </tr>\n",
       "    <tr>\n",
       "      <th>2</th>\n",
       "      <td>34</td>\n",
       "      <td>322</td>\n",
       "      <td>12.630630</td>\n",
       "      <td>37.321044</td>\n",
       "      <td>2</td>\n",
       "      <td>315</td>\n",
       "      <td>21</td>\n",
       "      <td>25</td>\n",
       "      <td>120</td>\n",
       "      <td>1</td>\n",
       "      <td>0</td>\n",
       "      <td>24799.642713</td>\n",
       "    </tr>\n",
       "    <tr>\n",
       "      <th>3</th>\n",
       "      <td>24</td>\n",
       "      <td>1339</td>\n",
       "      <td>12.636895</td>\n",
       "      <td>30.898733</td>\n",
       "      <td>2</td>\n",
       "      <td>933</td>\n",
       "      <td>43</td>\n",
       "      <td>248</td>\n",
       "      <td>120</td>\n",
       "      <td>0</td>\n",
       "      <td>0</td>\n",
       "      <td>52456.141830</td>\n",
       "    </tr>\n",
       "    <tr>\n",
       "      <th>4</th>\n",
       "      <td>4</td>\n",
       "      <td>1738</td>\n",
       "      <td>12.641069</td>\n",
       "      <td>44.814047</td>\n",
       "      <td>2</td>\n",
       "      <td>646</td>\n",
       "      <td>27</td>\n",
       "      <td>248</td>\n",
       "      <td>9</td>\n",
       "      <td>0</td>\n",
       "      <td>0</td>\n",
       "      <td>29184.436537</td>\n",
       "    </tr>\n",
       "    <tr>\n",
       "      <th>...</th>\n",
       "      <td>...</td>\n",
       "      <td>...</td>\n",
       "      <td>...</td>\n",
       "      <td>...</td>\n",
       "      <td>...</td>\n",
       "      <td>...</td>\n",
       "      <td>...</td>\n",
       "      <td>...</td>\n",
       "      <td>...</td>\n",
       "      <td>...</td>\n",
       "      <td>...</td>\n",
       "      <td>...</td>\n",
       "    </tr>\n",
       "    <tr>\n",
       "      <th>36178</th>\n",
       "      <td>14</td>\n",
       "      <td>1792</td>\n",
       "      <td>12.638982</td>\n",
       "      <td>16.509636</td>\n",
       "      <td>2</td>\n",
       "      <td>826</td>\n",
       "      <td>2</td>\n",
       "      <td>99</td>\n",
       "      <td>9</td>\n",
       "      <td>1</td>\n",
       "      <td>0</td>\n",
       "      <td>69059.147906</td>\n",
       "    </tr>\n",
       "    <tr>\n",
       "      <th>36179</th>\n",
       "      <td>8</td>\n",
       "      <td>1507</td>\n",
       "      <td>12.607604</td>\n",
       "      <td>56.980192</td>\n",
       "      <td>2</td>\n",
       "      <td>480</td>\n",
       "      <td>6</td>\n",
       "      <td>187</td>\n",
       "      <td>57</td>\n",
       "      <td>0</td>\n",
       "      <td>0</td>\n",
       "      <td>9966.263740</td>\n",
       "    </tr>\n",
       "    <tr>\n",
       "      <th>36180</th>\n",
       "      <td>50</td>\n",
       "      <td>485</td>\n",
       "      <td>12.622267</td>\n",
       "      <td>48.769990</td>\n",
       "      <td>2</td>\n",
       "      <td>31</td>\n",
       "      <td>10</td>\n",
       "      <td>12</td>\n",
       "      <td>57</td>\n",
       "      <td>1</td>\n",
       "      <td>0</td>\n",
       "      <td>9836.247068</td>\n",
       "    </tr>\n",
       "    <tr>\n",
       "      <th>36181</th>\n",
       "      <td>26</td>\n",
       "      <td>1099</td>\n",
       "      <td>12.638982</td>\n",
       "      <td>33.912114</td>\n",
       "      <td>2</td>\n",
       "      <td>862</td>\n",
       "      <td>2</td>\n",
       "      <td>16</td>\n",
       "      <td>87</td>\n",
       "      <td>1</td>\n",
       "      <td>0</td>\n",
       "      <td>47401.894331</td>\n",
       "    </tr>\n",
       "    <tr>\n",
       "      <th>36182</th>\n",
       "      <td>8</td>\n",
       "      <td>1604</td>\n",
       "      <td>12.624359</td>\n",
       "      <td>54.595490</td>\n",
       "      <td>1</td>\n",
       "      <td>612</td>\n",
       "      <td>34</td>\n",
       "      <td>16</td>\n",
       "      <td>9</td>\n",
       "      <td>0</td>\n",
       "      <td>0</td>\n",
       "      <td>10517.582124</td>\n",
       "    </tr>\n",
       "  </tbody>\n",
       "</table>\n",
       "<p>36183 rows × 12 columns</p>\n",
       "</div>"
      ],
      "text/plain": [
       "       brand  model  model_year     milage  fuel_type  engine  transmission  \\\n",
       "0         34    534   12.628540  41.793392          2     555            34   \n",
       "1         25   1260   12.630630  50.401041          2     416            27   \n",
       "2         34    322   12.630630  37.321044          2     315            21   \n",
       "3         24   1339   12.636895  30.898733          2     933            43   \n",
       "4          4   1738   12.641069  44.814047          2     646            27   \n",
       "...      ...    ...         ...        ...        ...     ...           ...   \n",
       "36178     14   1792   12.638982  16.509636          2     826             2   \n",
       "36179      8   1507   12.607604  56.980192          2     480             6   \n",
       "36180     50    485   12.622267  48.769990          2      31            10   \n",
       "36181     26   1099   12.638982  33.912114          2     862             2   \n",
       "36182      8   1604   12.624359  54.595490          1     612            34   \n",
       "\n",
       "       ext_col  int_col  accident  clean_title         price  \n",
       "0          248        6         1            0  20105.954926  \n",
       "1          211        9         1            0  15352.016293  \n",
       "2           25      120         1            0  24799.642713  \n",
       "3          248      120         0            0  52456.141830  \n",
       "4          248        9         0            0  29184.436537  \n",
       "...        ...      ...       ...          ...           ...  \n",
       "36178       99        9         1            0  69059.147906  \n",
       "36179      187       57         0            0   9966.263740  \n",
       "36180       12       57         1            0   9836.247068  \n",
       "36181       16       87         1            0  47401.894331  \n",
       "36182       16        9         0            0  10517.582124  \n",
       "\n",
       "[36183 rows x 12 columns]"
      ]
     },
     "execution_count": 330,
     "metadata": {},
     "output_type": "execute_result"
    }
   ],
   "source": [
    "X_test_p"
   ]
  },
  {
   "cell_type": "code",
   "execution_count": 333,
   "id": "88517c0a",
   "metadata": {},
   "outputs": [],
   "source": [
    "subm = test[['id']]"
   ]
  },
  {
   "cell_type": "code",
   "execution_count": 334,
   "id": "05fbe905",
   "metadata": {},
   "outputs": [
    {
     "data": {
      "text/html": [
       "<div>\n",
       "<style scoped>\n",
       "    .dataframe tbody tr th:only-of-type {\n",
       "        vertical-align: middle;\n",
       "    }\n",
       "\n",
       "    .dataframe tbody tr th {\n",
       "        vertical-align: top;\n",
       "    }\n",
       "\n",
       "    .dataframe thead th {\n",
       "        text-align: right;\n",
       "    }\n",
       "</style>\n",
       "<table border=\"1\" class=\"dataframe\">\n",
       "  <thead>\n",
       "    <tr style=\"text-align: right;\">\n",
       "      <th></th>\n",
       "      <th>id</th>\n",
       "    </tr>\n",
       "  </thead>\n",
       "  <tbody>\n",
       "    <tr>\n",
       "      <th>0</th>\n",
       "      <td>54273</td>\n",
       "    </tr>\n",
       "    <tr>\n",
       "      <th>1</th>\n",
       "      <td>54274</td>\n",
       "    </tr>\n",
       "    <tr>\n",
       "      <th>2</th>\n",
       "      <td>54275</td>\n",
       "    </tr>\n",
       "    <tr>\n",
       "      <th>3</th>\n",
       "      <td>54276</td>\n",
       "    </tr>\n",
       "    <tr>\n",
       "      <th>4</th>\n",
       "      <td>54277</td>\n",
       "    </tr>\n",
       "    <tr>\n",
       "      <th>...</th>\n",
       "      <td>...</td>\n",
       "    </tr>\n",
       "    <tr>\n",
       "      <th>36178</th>\n",
       "      <td>90451</td>\n",
       "    </tr>\n",
       "    <tr>\n",
       "      <th>36179</th>\n",
       "      <td>90452</td>\n",
       "    </tr>\n",
       "    <tr>\n",
       "      <th>36180</th>\n",
       "      <td>90453</td>\n",
       "    </tr>\n",
       "    <tr>\n",
       "      <th>36181</th>\n",
       "      <td>90454</td>\n",
       "    </tr>\n",
       "    <tr>\n",
       "      <th>36182</th>\n",
       "      <td>90455</td>\n",
       "    </tr>\n",
       "  </tbody>\n",
       "</table>\n",
       "<p>36183 rows × 1 columns</p>\n",
       "</div>"
      ],
      "text/plain": [
       "          id\n",
       "0      54273\n",
       "1      54274\n",
       "2      54275\n",
       "3      54276\n",
       "4      54277\n",
       "...      ...\n",
       "36178  90451\n",
       "36179  90452\n",
       "36180  90453\n",
       "36181  90454\n",
       "36182  90455\n",
       "\n",
       "[36183 rows x 1 columns]"
      ]
     },
     "execution_count": 334,
     "metadata": {},
     "output_type": "execute_result"
    }
   ],
   "source": [
    "subm"
   ]
  },
  {
   "cell_type": "code",
   "execution_count": 335,
   "id": "65eefaa9",
   "metadata": {},
   "outputs": [
    {
     "name": "stderr",
     "output_type": "stream",
     "text": [
      "C:\\Users\\KEI\\AppData\\Local\\Temp\\ipykernel_8312\\3941488274.py:1: SettingWithCopyWarning: \n",
      "A value is trying to be set on a copy of a slice from a DataFrame.\n",
      "Try using .loc[row_indexer,col_indexer] = value instead\n",
      "\n",
      "See the caveats in the documentation: https://pandas.pydata.org/pandas-docs/stable/user_guide/indexing.html#returning-a-view-versus-a-copy\n",
      "  subm['price']=X_test_p['price']\n"
     ]
    }
   ],
   "source": [
    "subm['price']=X_test_p['price']"
   ]
  },
  {
   "cell_type": "code",
   "execution_count": 336,
   "id": "b193d653",
   "metadata": {},
   "outputs": [
    {
     "data": {
      "text/html": [
       "<div>\n",
       "<style scoped>\n",
       "    .dataframe tbody tr th:only-of-type {\n",
       "        vertical-align: middle;\n",
       "    }\n",
       "\n",
       "    .dataframe tbody tr th {\n",
       "        vertical-align: top;\n",
       "    }\n",
       "\n",
       "    .dataframe thead th {\n",
       "        text-align: right;\n",
       "    }\n",
       "</style>\n",
       "<table border=\"1\" class=\"dataframe\">\n",
       "  <thead>\n",
       "    <tr style=\"text-align: right;\">\n",
       "      <th></th>\n",
       "      <th>id</th>\n",
       "      <th>price</th>\n",
       "    </tr>\n",
       "  </thead>\n",
       "  <tbody>\n",
       "    <tr>\n",
       "      <th>0</th>\n",
       "      <td>54273</td>\n",
       "      <td>20105.954926</td>\n",
       "    </tr>\n",
       "    <tr>\n",
       "      <th>1</th>\n",
       "      <td>54274</td>\n",
       "      <td>15352.016293</td>\n",
       "    </tr>\n",
       "    <tr>\n",
       "      <th>2</th>\n",
       "      <td>54275</td>\n",
       "      <td>24799.642713</td>\n",
       "    </tr>\n",
       "    <tr>\n",
       "      <th>3</th>\n",
       "      <td>54276</td>\n",
       "      <td>52456.141830</td>\n",
       "    </tr>\n",
       "    <tr>\n",
       "      <th>4</th>\n",
       "      <td>54277</td>\n",
       "      <td>29184.436537</td>\n",
       "    </tr>\n",
       "    <tr>\n",
       "      <th>...</th>\n",
       "      <td>...</td>\n",
       "      <td>...</td>\n",
       "    </tr>\n",
       "    <tr>\n",
       "      <th>36178</th>\n",
       "      <td>90451</td>\n",
       "      <td>69059.147906</td>\n",
       "    </tr>\n",
       "    <tr>\n",
       "      <th>36179</th>\n",
       "      <td>90452</td>\n",
       "      <td>9966.263740</td>\n",
       "    </tr>\n",
       "    <tr>\n",
       "      <th>36180</th>\n",
       "      <td>90453</td>\n",
       "      <td>9836.247068</td>\n",
       "    </tr>\n",
       "    <tr>\n",
       "      <th>36181</th>\n",
       "      <td>90454</td>\n",
       "      <td>47401.894331</td>\n",
       "    </tr>\n",
       "    <tr>\n",
       "      <th>36182</th>\n",
       "      <td>90455</td>\n",
       "      <td>10517.582124</td>\n",
       "    </tr>\n",
       "  </tbody>\n",
       "</table>\n",
       "<p>36183 rows × 2 columns</p>\n",
       "</div>"
      ],
      "text/plain": [
       "          id         price\n",
       "0      54273  20105.954926\n",
       "1      54274  15352.016293\n",
       "2      54275  24799.642713\n",
       "3      54276  52456.141830\n",
       "4      54277  29184.436537\n",
       "...      ...           ...\n",
       "36178  90451  69059.147906\n",
       "36179  90452   9966.263740\n",
       "36180  90453   9836.247068\n",
       "36181  90454  47401.894331\n",
       "36182  90455  10517.582124\n",
       "\n",
       "[36183 rows x 2 columns]"
      ]
     },
     "execution_count": 336,
     "metadata": {},
     "output_type": "execute_result"
    }
   ],
   "source": [
    "subm"
   ]
  },
  {
   "cell_type": "markdown",
   "id": "016fc16a",
   "metadata": {},
   "source": [
    "# grid search "
   ]
  },
  {
   "cell_type": "code",
   "execution_count": 50,
   "id": "7fc78ddf",
   "metadata": {},
   "outputs": [],
   "source": [
    "from sklearn.ensemble import RandomForestRegressor\n",
    "from sklearn.model_selection import GridSearchCV, train_test_split\n",
    "from sklearn.metrics import mean_squared_error\n"
   ]
  },
  {
   "cell_type": "code",
   "execution_count": 65,
   "id": "99001a9a",
   "metadata": {},
   "outputs": [
    {
     "name": "stdout",
     "output_type": "stream",
     "text": [
      "Fitting 3 folds for each of 3 candidates, totalling 9 fits\n",
      "Best Parameters: {'max_depth': 10}\n",
      "RMSE on validation set: 22088.843522057537\n"
     ]
    }
   ],
   "source": [
    "\n",
    "# Define the parameter grid\n",
    "param_grid = {\n",
    "    #'n_estimators': [10, 50, 100],\n",
    "    'max_depth': [None, 10, 20],\n",
    "    #'min_samples_split': [2, 5, 10],\n",
    "    #'min_samples_leaf': [1, 2, 4],\n",
    "    #'max_features': ['auto', 'sqrt', 'log2']\n",
    "}\n",
    "\n",
    "# Initialize the RandomForestRegressor\n",
    "model_final = RandomForestRegressor(random_state=42)\n",
    "\n",
    "# Perform grid search\n",
    "grid_search = GridSearchCV(estimator=model_final, param_grid=param_grid, cv=3, n_jobs=-1, verbose=2)\n",
    "grid_search.fit(X_train, y_train)\n",
    "\n",
    "# Get the best parameters and model\n",
    "best_params = grid_search.best_params_\n",
    "best_model = grid_search.best_estimator_\n",
    "\n",
    "# Make predictions on the validation set using the best model\n",
    "y_pred_final = best_model.predict(X_val)\n",
    "\n",
    "# Calculate RMSE\n",
    "rmse = np.sqrt(mean_squared_error(np.exp(y_val), np.exp(y_pred_final)))\n",
    "print(f'Best Parameters: {best_params}')\n",
    "print(f'RMSE on validation set: {rmse}')\n"
   ]
  },
  {
   "cell_type": "code",
   "execution_count": null,
   "id": "38c8b4d1",
   "metadata": {},
   "outputs": [],
   "source": []
  },
  {
   "cell_type": "code",
   "execution_count": 66,
   "id": "684cc819",
   "metadata": {},
   "outputs": [],
   "source": [
    "#100 estimators, 10 splits, 4 leafs, max features sqrt, max depth"
   ]
  },
  {
   "cell_type": "code",
   "execution_count": 71,
   "id": "206918d4",
   "metadata": {},
   "outputs": [
    {
     "name": "stdout",
     "output_type": "stream",
     "text": [
      "\n",
      "-------------on Train ----------------\n",
      "RMSE : 10809.222765667339\n"
     ]
    }
   ],
   "source": [
    "# Initialize the linear regression model, has given me best performance after changing random state\n",
    "model_best = RandomForestRegressor(#n_estimators=100,\n",
    "                                    #min_samples_split=10,\n",
    "                                    #min_samples_leaf=4,\n",
    "                                    #max_features='sqrt',\n",
    "                                    random_state=23)\n",
    "\n",
    "# Train the model\n",
    "model_best.fit(X, y)\n",
    "\n",
    "# Make predictions on the validation set\n",
    "y_best = model_best.predict(X)\n",
    "\n",
    "# Calculate RMSE\n",
    "print(\"\\n-------------on Train ----------------\")\n",
    "rmse_tr = np.sqrt(mean_squared_error(np.exp(y), np.exp(y_best)))\n",
    "print(f'RMSE : {rmse_tr}')\n"
   ]
  },
  {
   "cell_type": "code",
   "execution_count": null,
   "id": "15315b21",
   "metadata": {},
   "outputs": [],
   "source": [
    "# Initialize the linear regression model\n",
    "model_best = RandomForestRegressor(n_estimators=1000,\n",
    "                                    #min_samples_split=10,\n",
    "                                    #min_samples_leaf=4,\n",
    "                                    #max_features='sqrt',\n",
    "                                    random_state=23)\n",
    "\n",
    "# Train the model\n",
    "model_best.fit(X, y)\n",
    "\n",
    "# Make predictions on the validation set\n",
    "y_best = model_best.predict(X)\n",
    "\n",
    "# Calculate RMSE\n",
    "print(\"\\n-------------on Train ----------------\")\n",
    "rmse_tr = np.sqrt(mean_squared_error(np.exp(y), np.exp(y_best)))\n",
    "print(f'RMSE : {rmse_tr}')\n"
   ]
  },
  {
   "cell_type": "code",
   "execution_count": 88,
   "id": "50ddbbf2",
   "metadata": {},
   "outputs": [],
   "source": [
    "y_pred_best = model_best.predict(X_test)\n"
   ]
  },
  {
   "cell_type": "code",
   "execution_count": 89,
   "id": "775b884f",
   "metadata": {},
   "outputs": [],
   "source": [
    "X_test_p = X_test.copy()\n",
    "X_test_p['price']=np.exp(y_pred_best)"
   ]
  },
  {
   "cell_type": "code",
   "execution_count": 90,
   "id": "eff4bf15",
   "metadata": {},
   "outputs": [
    {
     "data": {
      "text/html": [
       "<div>\n",
       "<style scoped>\n",
       "    .dataframe tbody tr th:only-of-type {\n",
       "        vertical-align: middle;\n",
       "    }\n",
       "\n",
       "    .dataframe tbody tr th {\n",
       "        vertical-align: top;\n",
       "    }\n",
       "\n",
       "    .dataframe thead th {\n",
       "        text-align: right;\n",
       "    }\n",
       "</style>\n",
       "<table border=\"1\" class=\"dataframe\">\n",
       "  <thead>\n",
       "    <tr style=\"text-align: right;\">\n",
       "      <th></th>\n",
       "      <th>brand</th>\n",
       "      <th>model</th>\n",
       "      <th>model_year</th>\n",
       "      <th>milage</th>\n",
       "      <th>fuel_type</th>\n",
       "      <th>engine</th>\n",
       "      <th>transmission</th>\n",
       "      <th>ext_col</th>\n",
       "      <th>int_col</th>\n",
       "      <th>accident</th>\n",
       "      <th>clean_title</th>\n",
       "      <th>price</th>\n",
       "    </tr>\n",
       "  </thead>\n",
       "  <tbody>\n",
       "    <tr>\n",
       "      <th>0</th>\n",
       "      <td>34</td>\n",
       "      <td>534</td>\n",
       "      <td>12.628540</td>\n",
       "      <td>41.793392</td>\n",
       "      <td>2</td>\n",
       "      <td>555</td>\n",
       "      <td>34</td>\n",
       "      <td>248</td>\n",
       "      <td>6</td>\n",
       "      <td>1</td>\n",
       "      <td>0</td>\n",
       "      <td>20978.813888</td>\n",
       "    </tr>\n",
       "    <tr>\n",
       "      <th>1</th>\n",
       "      <td>25</td>\n",
       "      <td>1260</td>\n",
       "      <td>12.630630</td>\n",
       "      <td>50.401041</td>\n",
       "      <td>2</td>\n",
       "      <td>416</td>\n",
       "      <td>27</td>\n",
       "      <td>211</td>\n",
       "      <td>9</td>\n",
       "      <td>1</td>\n",
       "      <td>0</td>\n",
       "      <td>14530.037319</td>\n",
       "    </tr>\n",
       "    <tr>\n",
       "      <th>2</th>\n",
       "      <td>34</td>\n",
       "      <td>322</td>\n",
       "      <td>12.630630</td>\n",
       "      <td>37.321044</td>\n",
       "      <td>2</td>\n",
       "      <td>315</td>\n",
       "      <td>21</td>\n",
       "      <td>25</td>\n",
       "      <td>120</td>\n",
       "      <td>1</td>\n",
       "      <td>0</td>\n",
       "      <td>26526.107507</td>\n",
       "    </tr>\n",
       "    <tr>\n",
       "      <th>3</th>\n",
       "      <td>24</td>\n",
       "      <td>1339</td>\n",
       "      <td>12.636895</td>\n",
       "      <td>30.898733</td>\n",
       "      <td>2</td>\n",
       "      <td>933</td>\n",
       "      <td>43</td>\n",
       "      <td>248</td>\n",
       "      <td>120</td>\n",
       "      <td>0</td>\n",
       "      <td>0</td>\n",
       "      <td>56137.711814</td>\n",
       "    </tr>\n",
       "    <tr>\n",
       "      <th>4</th>\n",
       "      <td>4</td>\n",
       "      <td>1738</td>\n",
       "      <td>12.641069</td>\n",
       "      <td>44.814047</td>\n",
       "      <td>2</td>\n",
       "      <td>646</td>\n",
       "      <td>27</td>\n",
       "      <td>248</td>\n",
       "      <td>9</td>\n",
       "      <td>0</td>\n",
       "      <td>0</td>\n",
       "      <td>29163.117803</td>\n",
       "    </tr>\n",
       "    <tr>\n",
       "      <th>...</th>\n",
       "      <td>...</td>\n",
       "      <td>...</td>\n",
       "      <td>...</td>\n",
       "      <td>...</td>\n",
       "      <td>...</td>\n",
       "      <td>...</td>\n",
       "      <td>...</td>\n",
       "      <td>...</td>\n",
       "      <td>...</td>\n",
       "      <td>...</td>\n",
       "      <td>...</td>\n",
       "      <td>...</td>\n",
       "    </tr>\n",
       "    <tr>\n",
       "      <th>36178</th>\n",
       "      <td>14</td>\n",
       "      <td>1792</td>\n",
       "      <td>12.638982</td>\n",
       "      <td>16.509636</td>\n",
       "      <td>2</td>\n",
       "      <td>826</td>\n",
       "      <td>2</td>\n",
       "      <td>99</td>\n",
       "      <td>9</td>\n",
       "      <td>1</td>\n",
       "      <td>0</td>\n",
       "      <td>68746.539090</td>\n",
       "    </tr>\n",
       "    <tr>\n",
       "      <th>36179</th>\n",
       "      <td>8</td>\n",
       "      <td>1507</td>\n",
       "      <td>12.607604</td>\n",
       "      <td>56.980192</td>\n",
       "      <td>2</td>\n",
       "      <td>480</td>\n",
       "      <td>6</td>\n",
       "      <td>187</td>\n",
       "      <td>57</td>\n",
       "      <td>0</td>\n",
       "      <td>0</td>\n",
       "      <td>10051.283886</td>\n",
       "    </tr>\n",
       "    <tr>\n",
       "      <th>36180</th>\n",
       "      <td>50</td>\n",
       "      <td>485</td>\n",
       "      <td>12.622267</td>\n",
       "      <td>48.769990</td>\n",
       "      <td>2</td>\n",
       "      <td>31</td>\n",
       "      <td>10</td>\n",
       "      <td>12</td>\n",
       "      <td>57</td>\n",
       "      <td>1</td>\n",
       "      <td>0</td>\n",
       "      <td>9266.165580</td>\n",
       "    </tr>\n",
       "    <tr>\n",
       "      <th>36181</th>\n",
       "      <td>26</td>\n",
       "      <td>1099</td>\n",
       "      <td>12.638982</td>\n",
       "      <td>33.912114</td>\n",
       "      <td>2</td>\n",
       "      <td>862</td>\n",
       "      <td>2</td>\n",
       "      <td>16</td>\n",
       "      <td>87</td>\n",
       "      <td>1</td>\n",
       "      <td>0</td>\n",
       "      <td>49251.101083</td>\n",
       "    </tr>\n",
       "    <tr>\n",
       "      <th>36182</th>\n",
       "      <td>8</td>\n",
       "      <td>1604</td>\n",
       "      <td>12.624359</td>\n",
       "      <td>54.595490</td>\n",
       "      <td>1</td>\n",
       "      <td>612</td>\n",
       "      <td>34</td>\n",
       "      <td>16</td>\n",
       "      <td>9</td>\n",
       "      <td>0</td>\n",
       "      <td>0</td>\n",
       "      <td>10763.793969</td>\n",
       "    </tr>\n",
       "  </tbody>\n",
       "</table>\n",
       "<p>36183 rows × 12 columns</p>\n",
       "</div>"
      ],
      "text/plain": [
       "       brand  model  model_year     milage  fuel_type  engine  transmission  \\\n",
       "0         34    534   12.628540  41.793392          2     555            34   \n",
       "1         25   1260   12.630630  50.401041          2     416            27   \n",
       "2         34    322   12.630630  37.321044          2     315            21   \n",
       "3         24   1339   12.636895  30.898733          2     933            43   \n",
       "4          4   1738   12.641069  44.814047          2     646            27   \n",
       "...      ...    ...         ...        ...        ...     ...           ...   \n",
       "36178     14   1792   12.638982  16.509636          2     826             2   \n",
       "36179      8   1507   12.607604  56.980192          2     480             6   \n",
       "36180     50    485   12.622267  48.769990          2      31            10   \n",
       "36181     26   1099   12.638982  33.912114          2     862             2   \n",
       "36182      8   1604   12.624359  54.595490          1     612            34   \n",
       "\n",
       "       ext_col  int_col  accident  clean_title         price  \n",
       "0          248        6         1            0  20978.813888  \n",
       "1          211        9         1            0  14530.037319  \n",
       "2           25      120         1            0  26526.107507  \n",
       "3          248      120         0            0  56137.711814  \n",
       "4          248        9         0            0  29163.117803  \n",
       "...        ...      ...       ...          ...           ...  \n",
       "36178       99        9         1            0  68746.539090  \n",
       "36179      187       57         0            0  10051.283886  \n",
       "36180       12       57         1            0   9266.165580  \n",
       "36181       16       87         1            0  49251.101083  \n",
       "36182       16        9         0            0  10763.793969  \n",
       "\n",
       "[36183 rows x 12 columns]"
      ]
     },
     "execution_count": 90,
     "metadata": {},
     "output_type": "execute_result"
    }
   ],
   "source": [
    "X_test_p"
   ]
  },
  {
   "cell_type": "code",
   "execution_count": 91,
   "id": "cf0d4950",
   "metadata": {},
   "outputs": [],
   "source": [
    "subm2 = test[['id']]"
   ]
  },
  {
   "cell_type": "code",
   "execution_count": 92,
   "id": "72d659fb",
   "metadata": {},
   "outputs": [
    {
     "name": "stderr",
     "output_type": "stream",
     "text": [
      "C:\\Users\\KEI\\AppData\\Local\\Temp\\ipykernel_7484\\1250753083.py:1: SettingWithCopyWarning: \n",
      "A value is trying to be set on a copy of a slice from a DataFrame.\n",
      "Try using .loc[row_indexer,col_indexer] = value instead\n",
      "\n",
      "See the caveats in the documentation: https://pandas.pydata.org/pandas-docs/stable/user_guide/indexing.html#returning-a-view-versus-a-copy\n",
      "  subm2['price']=X_test_p['price']\n"
     ]
    }
   ],
   "source": [
    "subm2['price']=X_test_p['price']"
   ]
  },
  {
   "cell_type": "code",
   "execution_count": 93,
   "id": "9c36ef51",
   "metadata": {},
   "outputs": [
    {
     "data": {
      "text/html": [
       "<div>\n",
       "<style scoped>\n",
       "    .dataframe tbody tr th:only-of-type {\n",
       "        vertical-align: middle;\n",
       "    }\n",
       "\n",
       "    .dataframe tbody tr th {\n",
       "        vertical-align: top;\n",
       "    }\n",
       "\n",
       "    .dataframe thead th {\n",
       "        text-align: right;\n",
       "    }\n",
       "</style>\n",
       "<table border=\"1\" class=\"dataframe\">\n",
       "  <thead>\n",
       "    <tr style=\"text-align: right;\">\n",
       "      <th></th>\n",
       "      <th>id</th>\n",
       "      <th>price</th>\n",
       "    </tr>\n",
       "  </thead>\n",
       "  <tbody>\n",
       "    <tr>\n",
       "      <th>0</th>\n",
       "      <td>54273</td>\n",
       "      <td>20978.813888</td>\n",
       "    </tr>\n",
       "    <tr>\n",
       "      <th>1</th>\n",
       "      <td>54274</td>\n",
       "      <td>14530.037319</td>\n",
       "    </tr>\n",
       "    <tr>\n",
       "      <th>2</th>\n",
       "      <td>54275</td>\n",
       "      <td>26526.107507</td>\n",
       "    </tr>\n",
       "    <tr>\n",
       "      <th>3</th>\n",
       "      <td>54276</td>\n",
       "      <td>56137.711814</td>\n",
       "    </tr>\n",
       "    <tr>\n",
       "      <th>4</th>\n",
       "      <td>54277</td>\n",
       "      <td>29163.117803</td>\n",
       "    </tr>\n",
       "    <tr>\n",
       "      <th>...</th>\n",
       "      <td>...</td>\n",
       "      <td>...</td>\n",
       "    </tr>\n",
       "    <tr>\n",
       "      <th>36178</th>\n",
       "      <td>90451</td>\n",
       "      <td>68746.539090</td>\n",
       "    </tr>\n",
       "    <tr>\n",
       "      <th>36179</th>\n",
       "      <td>90452</td>\n",
       "      <td>10051.283886</td>\n",
       "    </tr>\n",
       "    <tr>\n",
       "      <th>36180</th>\n",
       "      <td>90453</td>\n",
       "      <td>9266.165580</td>\n",
       "    </tr>\n",
       "    <tr>\n",
       "      <th>36181</th>\n",
       "      <td>90454</td>\n",
       "      <td>49251.101083</td>\n",
       "    </tr>\n",
       "    <tr>\n",
       "      <th>36182</th>\n",
       "      <td>90455</td>\n",
       "      <td>10763.793969</td>\n",
       "    </tr>\n",
       "  </tbody>\n",
       "</table>\n",
       "<p>36183 rows × 2 columns</p>\n",
       "</div>"
      ],
      "text/plain": [
       "          id         price\n",
       "0      54273  20978.813888\n",
       "1      54274  14530.037319\n",
       "2      54275  26526.107507\n",
       "3      54276  56137.711814\n",
       "4      54277  29163.117803\n",
       "...      ...           ...\n",
       "36178  90451  68746.539090\n",
       "36179  90452  10051.283886\n",
       "36180  90453   9266.165580\n",
       "36181  90454  49251.101083\n",
       "36182  90455  10763.793969\n",
       "\n",
       "[36183 rows x 2 columns]"
      ]
     },
     "execution_count": 93,
     "metadata": {},
     "output_type": "execute_result"
    }
   ],
   "source": [
    "subm2"
   ]
  },
  {
   "cell_type": "code",
   "execution_count": 94,
   "id": "c534afd2",
   "metadata": {},
   "outputs": [],
   "source": [
    "subm2.to_csv('submission8.csv', index=False)"
   ]
  },
  {
   "cell_type": "code",
   "execution_count": null,
   "id": "7e07b539",
   "metadata": {},
   "outputs": [],
   "source": []
  }
 ],
 "metadata": {
  "kernelspec": {
   "display_name": "Python 3 (ipykernel)",
   "language": "python",
   "name": "python3"
  },
  "language_info": {
   "codemirror_mode": {
    "name": "ipython",
    "version": 3
   },
   "file_extension": ".py",
   "mimetype": "text/x-python",
   "name": "python",
   "nbconvert_exporter": "python",
   "pygments_lexer": "ipython3",
   "version": "3.10.9"
  }
 },
 "nbformat": 4,
 "nbformat_minor": 5
}
